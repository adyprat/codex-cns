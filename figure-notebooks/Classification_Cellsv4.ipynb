{
 "cells": [
  {
   "cell_type": "code",
   "execution_count": null,
   "id": "9bff618e-89cd-43b9-84e5-cd933222d662",
   "metadata": {},
   "outputs": [],
   "source": [
    "# Load necessary libraries\n",
    "import sys\n",
    "import os\n",
    "import anndata as ad\n",
    "import pandas as pd\n",
    "import scanpy as sc\n",
    "import seaborn as sns; sns.set(color_codes=True)\n",
    "import scimap as sm\n",
    "\n",
    "import squidpy as sq\n"
   ]
  },
  {
   "cell_type": "code",
   "execution_count": null,
   "id": "9ca80061-ffc7-47f9-8dc7-32dcd0908e11",
   "metadata": {},
   "outputs": [],
   "source": [
    "sc.settings.verbosity = 3             # verbosity: errors (0), warnings (1), info (2), hints (3)\n",
    "sc.logging.print_header()\n",
    "sc.settings.set_figure_params(dpi=80, facecolor='white')"
   ]
  },
  {
   "cell_type": "code",
   "execution_count": null,
   "id": "6e15f87b-8256-47ee-bd39-03afaabc551f",
   "metadata": {},
   "outputs": [],
   "source": [
    "sc.logging.print_header()"
   ]
  },
  {
   "cell_type": "code",
   "execution_count": null,
   "id": "7f797678-cb2b-4071-874d-ed031d5eb81d",
   "metadata": {},
   "outputs": [],
   "source": [
    "import glob\n",
    "inFiles = glob.glob('McmCells/*CellsNID.csv')\n",
    "inFiles2 = glob.glob('McmCells/*CellsID.csv')\n",
    "\n",
    "inFiles"
   ]
  },
  {
   "cell_type": "code",
   "execution_count": null,
   "id": "fc6c21d2-eb54-44fc-9c14-c1d4def1c6a4",
   "metadata": {},
   "outputs": [],
   "source": [
    "detDF = pd.read_csv('McmCells/detection_measurements_post_threshold_Cells_1116.tsv',sep='\\t')\n",
    "\n",
    "detDF"
   ]
  },
  {
   "cell_type": "code",
   "execution_count": null,
   "id": "bf6cf433",
   "metadata": {},
   "outputs": [],
   "source": [
    "detDF"
   ]
  },
  {
   "cell_type": "code",
   "execution_count": null,
   "id": "e86583a7-fc6b-44e9-b46f-aa3192968ec2",
   "metadata": {},
   "outputs": [],
   "source": [
    "cellDF = detDF[detDF.Class=='Cells']\n",
    "\n",
    "for im in cellDF.Image.unique():\n",
    "    print(cellDF[cellDF.Image==im].ID.values[:10])\n"
   ]
  },
  {
   "cell_type": "code",
   "execution_count": null,
   "id": "efd41edf",
   "metadata": {},
   "outputs": [],
   "source": [
    "#cellDF.ImageID.isna().sum()"
   ]
  },
  {
   "cell_type": "code",
   "execution_count": null,
   "id": "6cb5a5fb-a121-44ac-9181-b460901ea633",
   "metadata": {
    "scrolled": true,
    "tags": []
   },
   "outputs": [],
   "source": [
    "imageIDMapQP = {'10202021_BaharehNP_2997-ADCortex_EDTA.qptiff - resolution #1':'2997',\n",
    "       '11162021_Bahareh-3155_EDTA.qptiff - resolution #1':'3155',\n",
    "       '10122021_BaharehNP_ADCortex_EDTA.qptiff - resolution #1':'3196',\n",
    "       '12032021-Bahareh_3280_Alz.qptiff - resolution #1':'3280',\n",
    "       '10122021_BaharehNP_1-CtlCortex1796_EDTA_MKT6.qptiff - resolution #1':'1796',\n",
    "       '12252021_Bahareh-3628-Cntr.qptiff - resolution #1':'3628',\n",
    "       '11092021_BaharehNP_3026CtlCorte.qptiff - resolution #1':'3026',\n",
    "       '10222021_BaharehNP_1873_CtrlCortex.qptiff - resolution #1':'1873'}\n",
    "imageTypeMapQP = {'10202021_BaharehNP_2997-ADCortex_EDTA.qptiff - resolution #1':'AD',\n",
    "       '11162021_Bahareh-3155_EDTA.qptiff - resolution #1':'AD',\n",
    "       '10122021_BaharehNP_ADCortex_EDTA.qptiff - resolution #1':'AD',\n",
    "       '12032021-Bahareh_3280_Alz.qptiff - resolution #1':'AD',\n",
    "       '10122021_BaharehNP_1-CtlCortex1796_EDTA_MKT6.qptiff - resolution #1':'Ctl',\n",
    "       '12252021_Bahareh-3628-Cntr.qptiff - resolution #1':'Ctl',\n",
    "       '11092021_BaharehNP_3026CtlCorte.qptiff - resolution #1':'Ctl',\n",
    "       '10222021_BaharehNP_1873_CtrlCortex.qptiff - resolution #1':'Ctl'}\n",
    "\n",
    "cellDF.loc[:,'ImageID'] = cellDF.Image.map(imageIDMapQP)\n",
    "cellDF = cellDF[cellDF.ImageID.isin(['3026','3155'])]\n",
    "cellDF.ID = cellDF.ID.astype(int)"
   ]
  },
  {
   "cell_type": "code",
   "execution_count": null,
   "id": "5e40b54e",
   "metadata": {},
   "outputs": [],
   "source": []
  },
  {
   "cell_type": "code",
   "execution_count": null,
   "id": "38585652-7238-48b8-bff2-db906705a6e8",
   "metadata": {},
   "outputs": [],
   "source": [
    "#gliaDF=gliaDF.dropna(axis=1)\n",
    "cellDF['Distance to annotation PlaquesA µm']"
   ]
  },
  {
   "cell_type": "code",
   "execution_count": null,
   "id": "2bb9219e-cc95-4da5-8ff4-fcbe0c54b043",
   "metadata": {
    "scrolled": true,
    "tags": []
   },
   "outputs": [],
   "source": [
    "cellDF.columns"
   ]
  },
  {
   "cell_type": "code",
   "execution_count": null,
   "id": "8305b915-89b2-4983-aa89-e4e3e509fc63",
   "metadata": {},
   "outputs": [],
   "source": [
    "cellDF.loc[:,'ImageID_CellID'] = cellDF.ImageID +'_'+ cellDF.ID.astype(str)\n",
    "cellDF"
   ]
  },
  {
   "cell_type": "code",
   "execution_count": null,
   "id": "383cc8bc",
   "metadata": {},
   "outputs": [],
   "source": [
    "cellDF[cellDF.ImageID_CellID=='3155_110086']"
   ]
  },
  {
   "cell_type": "code",
   "execution_count": null,
   "id": "27d375e9-7697-43d4-9dfd-b591cab18758",
   "metadata": {
    "scrolled": true,
    "tags": []
   },
   "outputs": [],
   "source": [
    "ID_ParentDict = pd.Series(cellDF.Parent.values,index=cellDF.ImageID_CellID).to_dict()\n"
   ]
  },
  {
   "cell_type": "code",
   "execution_count": null,
   "id": "fc8ccf5f",
   "metadata": {},
   "outputs": [],
   "source": [
    "gID_Dict = pd.Series(cellDF.gliaID.values,index=cellDF.ImageID_CellID).to_dict()\n",
    "nID_Dict = pd.Series(cellDF.neuronID.values,index=cellDF.ImageID_CellID).to_dict()\n",
    "oID_Dict = pd.Series(cellDF.oligoID.values,index=cellDF.ImageID_CellID).to_dict()\n"
   ]
  },
  {
   "cell_type": "code",
   "execution_count": null,
   "id": "f0347341-e200-4b57-aca6-555285c21e69",
   "metadata": {},
   "outputs": [],
   "source": [
    "inFiles"
   ]
  },
  {
   "cell_type": "code",
   "execution_count": null,
   "id": "b3e50002-16fe-4b7a-b504-1c55d3fa5d78",
   "metadata": {},
   "outputs": [],
   "source": [
    "imageIDMap = {x:x.split('_')[-2] for x in inFiles}\n",
    "imageIDMap"
   ]
  },
  {
   "cell_type": "code",
   "execution_count": null,
   "id": "891f734c-b01c-4780-bbe6-18f96de3ba81",
   "metadata": {},
   "outputs": [],
   "source": [
    "imageTypeMap = {}\n",
    "for x in inFiles:\n",
    "    if ('AD' in x) or ('3155' in x) or ('Alz' in x):\n",
    "        imageTypeMap[x] = 'AD'\n",
    "    else:\n",
    "        imageTypeMap[x] = 'Ctl'"
   ]
  },
  {
   "cell_type": "code",
   "execution_count": null,
   "id": "204ea43e-a849-4f4f-ba35-6ff480861ddd",
   "metadata": {},
   "outputs": [],
   "source": [
    "imageTypeMap"
   ]
  },
  {
   "cell_type": "code",
   "execution_count": null,
   "id": "68993c9b-2fcc-4e91-88d9-53e0b06b6d3b",
   "metadata": {
    "scrolled": true,
    "tags": []
   },
   "outputs": [],
   "source": [
    "reg001 = []\n",
    "aMap = {'Olig-2':'Olig2','Claudin-5':'Claudin5'}\n",
    "protNames =  []\n",
    "for i,iF in enumerate(inFiles):\n",
    "    print(iF)\n",
    "    inD = pd.read_csv(iF, sep=',', header=0, index_col=0).rename(columns=aMap,inplace=False)\n",
    "    inD.columns = ['Nucleus_'+col for col in inD.columns]\n",
    "    reg001.append(inD)\n",
    "    reg001[i].loc[:,'Image'] = iF\n",
    "\n",
    "reg002 = []\n",
    "aMap = {'Olig-2':'Olig2','Claudin-5':'Claudin5'}\n",
    "\n",
    "for i,iF in enumerate(inFiles2):\n",
    "    print(iF)\n",
    "    inD = pd.read_csv(iF, sep=',', header=0, index_col=0).rename(columns=aMap,inplace=False)\n",
    "    \n",
    "    reg002.append(inD.loc[reg001[i].index])\n",
    "    #reg002[i].loc[:,'Image'] = iF\n"
   ]
  },
  {
   "cell_type": "code",
   "execution_count": null,
   "id": "aeba13fa",
   "metadata": {},
   "outputs": [],
   "source": [
    "reg001[0].shape, reg002[0].shape, reg001[1].shape, reg002[1].shape, "
   ]
  },
  {
   "cell_type": "code",
   "execution_count": null,
   "id": "0aa2e403",
   "metadata": {},
   "outputs": [],
   "source": []
  },
  {
   "cell_type": "code",
   "execution_count": null,
   "id": "1cde8f8c-3394-4755-b061-0eae370a7b4e",
   "metadata": {},
   "outputs": [],
   "source": [
    "reg001[1]"
   ]
  },
  {
   "cell_type": "code",
   "execution_count": null,
   "id": "0ece34d4-800e-4821-bbf8-37e66df28148",
   "metadata": {},
   "outputs": [],
   "source": [
    "i1 = pd.concat(reg001)\n",
    "i2 = pd.concat(reg002)#.loc[i1.index]\n",
    "combinedDF = pd.concat([i1,i2],axis=1)\n",
    "#combinedDF = combinedDF[combinedDF['Centroid Y µm'] >= 4800]\n",
    "combinedDF.reset_index(inplace=True)\n",
    "\n",
    "\n",
    "combinedDF['ImageID'] = combinedDF.Image.map(imageIDMap)\n",
    "combinedDF['ImageType'] = combinedDF.Image.map(imageTypeMap)\n",
    "combinedDF['ImageID_CellID'] = combinedDF.ImageID +'_'+combinedDF.CellID.astype(str)\n",
    "combinedDF['Parent'] = combinedDF.ImageID_CellID.map(ID_ParentDict)\n",
    "combinedDF['gliaID'] = combinedDF.ImageID_CellID.map(gID_Dict)\n",
    "combinedDF['neuronID'] = combinedDF.ImageID_CellID.map(nID_Dict)\n",
    "combinedDF['oligoID'] = combinedDF.ImageID_CellID.map(oID_Dict)\n",
    "\n",
    "combinedDF.head()\n"
   ]
  },
  {
   "cell_type": "code",
   "execution_count": null,
   "id": "0ca8a256",
   "metadata": {},
   "outputs": [],
   "source": [
    "combinedDF.shape, i1.shape, i2.shape"
   ]
  },
  {
   "cell_type": "code",
   "execution_count": null,
   "id": "836facb9-8728-46d2-a43c-36f51b71c73e",
   "metadata": {},
   "outputs": [],
   "source": [
    "combinedDF.Parent.value_counts()\n",
    "combinedDF = combinedDF[combinedDF.Parent != 'Image']\n",
    "junkCells = pd.read_csv('McmCells/to_drop.csv')\n",
    "combinedDF = combinedDF[~combinedDF.ImageID_CellID.isin(junkCells.ImageID_CellID.values)]"
   ]
  },
  {
   "cell_type": "code",
   "execution_count": null,
   "id": "8a64559f",
   "metadata": {},
   "outputs": [],
   "source": [
    "pd.read_csv('McmCells/to_drop.csv')\n"
   ]
  },
  {
   "cell_type": "code",
   "execution_count": null,
   "id": "04576222-f6ef-4479-aeed-798b12f4f885",
   "metadata": {
    "scrolled": true,
    "tags": []
   },
   "outputs": [],
   "source": [
    "sorted(combinedDF.columns)"
   ]
  },
  {
   "cell_type": "code",
   "execution_count": null,
   "id": "1ed81947-56e9-42dc-a701-d556554b7108",
   "metadata": {},
   "outputs": [],
   "source": [
    "keepCols = ['GFAP','IBA1','Nucleus_Olig2','Nucleus_NeuN']#,'Nucleus_CollagenIV']\n",
    "\n",
    "protDF = combinedDF[keepCols]\n",
    "protDF.head()"
   ]
  },
  {
   "cell_type": "code",
   "execution_count": null,
   "id": "1451d69d-8237-4c78-abcd-916c449a6267",
   "metadata": {},
   "outputs": [],
   "source": [
    "protDF.isna().sum(axis=0)"
   ]
  },
  {
   "cell_type": "code",
   "execution_count": null,
   "id": "7b159e49-9893-477e-9c56-71ddabf96b9b",
   "metadata": {},
   "outputs": [],
   "source": [
    "newNames = {col:col.split('_')[-1] for col in protDF.columns}\n",
    "protDF.rename(newNames, inplace=True, axis=1)\n",
    "protDF.head()"
   ]
  },
  {
   "cell_type": "code",
   "execution_count": null,
   "id": "11fbf8b2-f27f-4cb5-b31e-c781b047017a",
   "metadata": {},
   "outputs": [],
   "source": [
    "protDF.columns"
   ]
  },
  {
   "cell_type": "code",
   "execution_count": null,
   "id": "61023c10",
   "metadata": {},
   "outputs": [],
   "source": [
    "combinedDF"
   ]
  },
  {
   "cell_type": "code",
   "execution_count": null,
   "id": "dea45617-26a7-4c50-99d6-c517662ee19a",
   "metadata": {},
   "outputs": [],
   "source": [
    "#spatialCols = ['Centroid X µm','Centroid Y µm','Cell: Area µm^2']\n",
    "#spatialNames  = {'Centroid X µm':'spatial_X','Centroid Y µm': 'spatial_Y','Cell: Area µm^2': 'Area'}#,'Image':'ImageID'}\n",
    "spatialCols = ['X_centroid','Y_centroid','Area','ImageID','ImageType','Parent','ImageID_CellID','gliaID','neuronID','oligoID']\n",
    "spatialNames  = {'X_centroid':'spatial_X','Y_centroid': 'spatial_Y','Area': 'Area'}#,'Image':'ImageID'}\n",
    "\n",
    "spatDF = combinedDF[spatialCols]\n",
    "spatDF.rename(columns=spatialNames, inplace=True)\n",
    "#spatDF['ImageID'] = spatDF.spatial_Y >= 4000\n",
    "#spatDF['ImageID'] = spatDF['ImageID'].astype('int')\n",
    "spatDF"
   ]
  },
  {
   "cell_type": "code",
   "execution_count": null,
   "id": "3c8dca51-cfc6-480d-939a-5a4788b08b5b",
   "metadata": {},
   "outputs": [],
   "source": [
    "# Load data\n",
    "# combine the data and metadata file to generate the AnnData object\n",
    "adata = ad.AnnData (protDF)\n",
    "adata.obs = spatDF\n",
    "\n",
    "adata.obs['oldIndex'] = adata.obs.index\n",
    "adata.obs.reset_index(inplace=True, drop=True)"
   ]
  },
  {
   "cell_type": "code",
   "execution_count": null,
   "id": "76a650ff",
   "metadata": {},
   "outputs": [],
   "source": [
    "import rpy2.robjects as robjects\n",
    "from rpy2.robjects import pandas2ri\n",
    "from rpy2.robjects.packages import importr\n",
    "import rpy2.robjects as ro\n",
    "import rpy2.robjects.packages as rpackages\n",
    "base = importr('CELESTA')\n",
    "import numpy as np\n",
    "# Defining the R script and loading the instance in Python\n",
    "r = robjects.r\n",
    "r['source']('WriteNormExp.R')"
   ]
  },
  {
   "cell_type": "code",
   "execution_count": null,
   "id": "605d761d",
   "metadata": {},
   "outputs": [],
   "source": [
    "adata.obs.ImageID.unique()\n",
    "adata.obs"
   ]
  },
  {
   "cell_type": "code",
   "execution_count": null,
   "id": "cb92f619",
   "metadata": {
    "scrolled": true
   },
   "outputs": [],
   "source": [
    "imIDS = adata.obs.ImageID.unique()\n",
    "for imID in imIDS:\n",
    "    subD =adata[adata.obs.ImageID==imID]\n",
    "    protDF = pd.DataFrame(subD.X, columns=subD.var_names, index=subD.obs.index)\n",
    "    #outDF = pd.concat([protDF[['NeuN','GFAP','Olig2','IBA1','CollagenIV']],subD.obs],axis=1)\n",
    "    outDF = pd.concat([protDF[['NeuN','GFAP','Olig2','IBA1']],subD.obs],axis=1)\n",
    "    outDF['oldIndex'] = outDF.index.values\n",
    "    outDF.reset_index(inplace=True,drop=True)\n",
    "    outDF.to_csv(f'{imID}_corr.csv')\n",
    "\n",
    "    # Loading the function we have defined in R.\n",
    "    writeNorm = robjects.globalenv['WriteNormExp']\n",
    "    writeNorm(imID,'phenotype_Celesta.csv', f'{imID}_corr.csv','Other',f'{imID}Prob.csv')\n"
   ]
  },
  {
   "cell_type": "code",
   "execution_count": null,
   "id": "cc987811",
   "metadata": {},
   "outputs": [],
   "source": [
    "inF1 = pd.concat([pd.read_csv(f'{imIDS[0]}Prob.csv'),pd.read_csv(f'{imIDS[1]}Prob.csv')])"
   ]
  },
  {
   "cell_type": "code",
   "execution_count": null,
   "id": "39345593",
   "metadata": {
    "scrolled": true
   },
   "outputs": [],
   "source": [
    "adata.X = inF1[adata.var_names].values"
   ]
  },
  {
   "cell_type": "code",
   "execution_count": null,
   "id": "f4fe43d8-5a8d-4345-9358-cbffd94cfe3e",
   "metadata": {},
   "outputs": [],
   "source": []
  },
  {
   "cell_type": "code",
   "execution_count": null,
   "id": "8a181d12-7d45-4ab3-83d1-73d7cff283c9",
   "metadata": {},
   "outputs": [],
   "source": [
    "#sc.pp.log1p(adata)\n",
    "#adataScaled=sc.pp.scale(adata, max_value=10, copy=True)\n",
    "#sc.pp.combat(adata, key='ImageID', inplace=True)\n",
    "#adataScaled=sc.pp.scale(adata, max_value=10, copy=True)\n",
    "\n",
    "#sc.pp.regress_out(adataScaled,keys='spatial_Y')\n",
    "#adataScaled = rescale(adata,imageid = 'ImageID', failed_markers=['CD68'], save_fig=True)\n",
    "\n",
    "#sm.pp.rescale(adata,method='by_imageID', imageid='ImageID',)"
   ]
  },
  {
   "cell_type": "code",
   "execution_count": null,
   "id": "f04dd5d0-6036-4d23-99ae-9f55f308c333",
   "metadata": {},
   "outputs": [],
   "source": [
    "adata.X"
   ]
  },
  {
   "cell_type": "code",
   "execution_count": null,
   "id": "29252710",
   "metadata": {},
   "outputs": [],
   "source": [
    "\n",
    "pheno = pd.read_csv('sm_phenotype.csv', index_col=None, header=0)\n",
    "pheno"
   ]
  },
  {
   "cell_type": "code",
   "execution_count": null,
   "id": "7afcadb3",
   "metadata": {},
   "outputs": [],
   "source": [
    "pd.DataFrame(adata.X, columns=adata.var_names)"
   ]
  },
  {
   "cell_type": "code",
   "execution_count": null,
   "id": "103b484c",
   "metadata": {},
   "outputs": [],
   "source": [
    "np.median(adata.X[:,0]), np.median(adata.X[:,1]), np.median(adata.X[:,2]), np.median(adata.X[:,3])\n"
   ]
  },
  {
   "cell_type": "code",
   "execution_count": null,
   "id": "8fc27dbd",
   "metadata": {},
   "outputs": [],
   "source": [
    "adataScaled = sm.tl.phenotype_cells(adata, phenotype= pheno, gate=0.5)\n"
   ]
  },
  {
   "cell_type": "code",
   "execution_count": null,
   "id": "6f792d85",
   "metadata": {},
   "outputs": [],
   "source": [
    "100*adataScaled.obs.groupby(['ImageID','Parent']).phenotype.value_counts()/adataScaled.obs.groupby(['ImageID','Parent']).size()"
   ]
  },
  {
   "cell_type": "code",
   "execution_count": null,
   "id": "521145f2",
   "metadata": {
    "scrolled": true
   },
   "outputs": [],
   "source": [
    "adataScaled.obs.groupby(['ImageID','Parent']).phenotype.value_counts()"
   ]
  },
  {
   "cell_type": "code",
   "execution_count": null,
   "id": "eb79ad34",
   "metadata": {},
   "outputs": [],
   "source": [
    "adataScaled.obs.groupby(['ImageID']).size()"
   ]
  },
  {
   "cell_type": "code",
   "execution_count": null,
   "id": "562c15ed",
   "metadata": {},
   "outputs": [],
   "source": [
    "adataScaled.obs.groupby(['ImageID']).phenotype.value_counts()"
   ]
  },
  {
   "cell_type": "code",
   "execution_count": null,
   "id": "a06a4a22",
   "metadata": {
    "scrolled": true
   },
   "outputs": [],
   "source": [
    "adataScaled.obs.groupby(['ImageID']).Parent.value_counts(), adataScaled.obs.groupby(['ImageID']).size()"
   ]
  },
  {
   "cell_type": "code",
   "execution_count": null,
   "id": "cb9a60b0",
   "metadata": {},
   "outputs": [],
   "source": [
    "adataScaled.obs[adataScaled.obs.ImageID=='3155'].groupby('Parent').size()"
   ]
  },
  {
   "cell_type": "code",
   "execution_count": null,
   "id": "246bd3c1",
   "metadata": {},
   "outputs": [],
   "source": [
    "adataScaled.obs[adataScaled.obs.ImageID=='3155'].groupby('Parent').size()"
   ]
  },
  {
   "cell_type": "code",
   "execution_count": null,
   "id": "4a07f77e",
   "metadata": {},
   "outputs": [],
   "source": [
    "adataScaled.obs.reset_index(inplace=True, drop=True)\n",
    "adataScaled.obs"
   ]
  },
  {
   "cell_type": "code",
   "execution_count": null,
   "id": "9c9c9dc3",
   "metadata": {},
   "outputs": [],
   "source": [
    "subDF = adataScaled.obs[adataScaled.obs.ImageID.isin(['3155'])]\n",
    "subDF"
   ]
  },
  {
   "cell_type": "code",
   "execution_count": null,
   "id": "b1cdeab2",
   "metadata": {},
   "outputs": [],
   "source": [
    "(subDF.neuronID != -1).sum(), subDF[subDF.phenotype=='Neurons'].shape[0]"
   ]
  },
  {
   "cell_type": "code",
   "execution_count": null,
   "id": "63e9fb08",
   "metadata": {},
   "outputs": [],
   "source": [
    "(subDF.gliaID != -1).sum(), subDF[subDF.phenotype=='Microglia'].shape[0]"
   ]
  },
  {
   "cell_type": "code",
   "execution_count": null,
   "id": "e436f719",
   "metadata": {},
   "outputs": [],
   "source": [
    "(subDF.oligoID != -1).sum(), subDF[subDF.phenotype=='Oligodendrocytes'].shape[0]"
   ]
  },
  {
   "cell_type": "code",
   "execution_count": null,
   "id": "42c86b0a",
   "metadata": {},
   "outputs": [],
   "source": [
    "(subDF[subDF.neuronID != -1].phenotype=='Neurons').sum()/subDF[subDF.neuronID != -1].shape[0]"
   ]
  },
  {
   "cell_type": "code",
   "execution_count": null,
   "id": "6fc8915d",
   "metadata": {},
   "outputs": [],
   "source": []
  },
  {
   "cell_type": "code",
   "execution_count": null,
   "id": "351c5da3",
   "metadata": {
    "scrolled": true
   },
   "outputs": [],
   "source": [
    "from sklearn.metrics import confusion_matrix, precision_score, recall_score, accuracy_score\n",
    "cNames = ['Gate','Neurons_AD','Neurons_Ctl','Neurons_Combined',\n",
    "          'OligoD_AD','OligoD_Ctl','OligoD_Combined','Other_AD','Other_Ctl','Other_Combined']\n",
    "pDF = pd.DataFrame(index=[x for x in range(1,20)], columns=cNames)\n",
    "rDF = pd.DataFrame(index=[x for x in range(1,20)], columns=cNames)\n",
    "aDF = pd.DataFrame(index=[x for x in range(1,20)], columns=cNames)\n",
    "for gateX in range(1,20):\n",
    "    print(\"Using gate: \",round(gateX*0.05,2))\n",
    "    adataScaled = sm.tl.phenotype_cells(adata, phenotype= pheno, gate=round(gateX*0.05,2))\n",
    "    pDF.loc[gateX, 'Gate'] = round(gateX*0.05,2)\n",
    "    rDF.loc[gateX, 'Gate'] = round(gateX*0.05,2)\n",
    "    aDF.loc[gateX, 'Gate'] = round(gateX*0.05,2)\n",
    "    subDF = adataScaled.obs[adataScaled.obs.ImageID.isin(['3155'])]\n",
    "\n",
    "    pDF.loc[gateX, 'Neurons_AD'] = precision_score((subDF.neuronID != -1), (subDF.phenotype=='Neurons'))\n",
    "    rDF.loc[gateX, 'Neurons_AD'] = recall_score((subDF.neuronID != -1), (subDF.phenotype=='Neurons'))\n",
    "    aDF.loc[gateX, 'Neurons_AD'] = accuracy_score((subDF.neuronID != -1), (subDF.phenotype=='Neurons'))\n",
    "\n",
    "    pDF.loc[gateX, 'OligoD_AD'] = precision_score((subDF.oligoID != -1), (subDF.phenotype=='Oligodendrocytes'))\n",
    "    rDF.loc[gateX, 'OligoD_AD'] = recall_score((subDF.oligoID != -1), (subDF.phenotype=='Oligodendrocytes'))\n",
    "    aDF.loc[gateX, 'OligoD_AD'] = accuracy_score((subDF.oligoID != -1), (subDF.phenotype=='Oligodendrocytes'))\n",
    "\n",
    "    pDF.loc[gateX, 'Other_AD'] = precision_score((subDF.oligoID == -1) & (subDF.neuronID == -1),\n",
    "                                                  ~subDF.phenotype.isin(['Neurons','Oligodendrocytes']))\n",
    "    rDF.loc[gateX, 'Other_AD'] = recall_score((subDF.oligoID == -1) & (subDF.neuronID == -1),\n",
    "                                                  ~subDF.phenotype.isin(['Neurons','Oligodendrocytes']))\n",
    "    aDF.loc[gateX, 'Other_AD'] = accuracy_score((subDF.oligoID == -1) & (subDF.neuronID == -1),\n",
    "                                                  ~subDF.phenotype.isin(['Neurons','Oligodendrocytes']))\n",
    "                                                \n",
    "    subDF = adataScaled.obs[adataScaled.obs.ImageID.isin(['3026'])]\n",
    "\n",
    "\n",
    "    pDF.loc[gateX, 'Neurons_Ctl'] = precision_score((subDF.neuronID != -1), (subDF.phenotype=='Neurons'))\n",
    "    rDF.loc[gateX, 'Neurons_Ctl'] = recall_score((subDF.neuronID != -1), (subDF.phenotype=='Neurons'))\n",
    "    aDF.loc[gateX, 'Neurons_Ctl'] = accuracy_score((subDF.neuronID != -1), (subDF.phenotype=='Neurons'))\n",
    "\n",
    "    pDF.loc[gateX, 'OligoD_Ctl'] = precision_score((subDF.oligoID != -1), (subDF.phenotype=='Oligodendrocytes'))\n",
    "    rDF.loc[gateX, 'OligoD_Ctl'] = recall_score((subDF.oligoID != -1), (subDF.phenotype=='Oligodendrocytes'))\n",
    "    aDF.loc[gateX, 'OligoD_Ctl'] = accuracy_score((subDF.oligoID != -1), (subDF.phenotype=='Oligodendrocytes'))\n",
    "\n",
    "    pDF.loc[gateX, 'Other_Ctl'] = precision_score((subDF.oligoID == -1) & (subDF.neuronID == -1),\n",
    "                                                  ~subDF.phenotype.isin(['Neurons','Oligodendrocytes']))\n",
    "    rDF.loc[gateX, 'Other_Ctl'] = recall_score((subDF.oligoID == -1) & (subDF.neuronID == -1),\n",
    "                                                  ~subDF.phenotype.isin(['Neurons','Oligodendrocytes']))\n",
    "    aDF.loc[gateX, 'Other_Ctl'] = accuracy_score((subDF.oligoID == -1) & (subDF.neuronID == -1),\n",
    "                                                  ~subDF.phenotype.isin(['Neurons','Oligodendrocytes']))\n",
    "\n",
    "    subDF = adataScaled.obs[adataScaled.obs.ImageID.isin(['3155','3026'])]\n",
    "\n",
    "\n",
    "    pDF.loc[gateX, 'Neurons_Combined'] = precision_score((subDF.neuronID != -1), (subDF.phenotype=='Neurons'))\n",
    "    rDF.loc[gateX, 'Neurons_Combined'] = recall_score((subDF.neuronID != -1), (subDF.phenotype=='Neurons'))\n",
    "    aDF.loc[gateX, 'Neurons_Combined'] = accuracy_score((subDF.neuronID != -1), (subDF.phenotype=='Neurons'))\n",
    "\n",
    "    pDF.loc[gateX, 'OligoD_Combined'] = precision_score((subDF.oligoID != -1), (subDF.phenotype=='Oligodendrocytes'))\n",
    "    rDF.loc[gateX, 'OligoD_Combined'] = recall_score((subDF.oligoID != -1), (subDF.phenotype=='Oligodendrocytes'))\n",
    "    aDF.loc[gateX, 'OligoD_Combined'] = accuracy_score((subDF.oligoID != -1), (subDF.phenotype=='Oligodendrocytes'))\n",
    "                                                 \n",
    "    pDF.loc[gateX, 'Other_Combined'] = precision_score((subDF.oligoID == -1) & (subDF.neuronID == -1),\n",
    "                                                  ~subDF.phenotype.isin(['Neurons','Oligodendrocytes']))\n",
    "    rDF.loc[gateX, 'Other_Combined'] = recall_score((subDF.oligoID == -1) & (subDF.neuronID == -1),\n",
    "                                                  ~subDF.phenotype.isin(['Neurons','Oligodendrocytes']))\n",
    "    aDF.loc[gateX, 'Other_Combined'] = accuracy_score((subDF.oligoID == -1) & (subDF.neuronID == -1),\n",
    "                                                  ~subDF.phenotype.isin(['Neurons','Oligodendrocytes']))"
   ]
  },
  {
   "cell_type": "code",
   "execution_count": null,
   "id": "f73d2c88",
   "metadata": {},
   "outputs": [],
   "source": [
    "import matplotlib.pyplot as plt\n",
    "adataScaled = sm.tl.phenotype_cells(adata, phenotype= pheno, gate=0.5)\n"
   ]
  },
  {
   "cell_type": "code",
   "execution_count": null,
   "id": "71e2fe60",
   "metadata": {
    "scrolled": true
   },
   "outputs": [],
   "source": [
    "subDF = adataScaled.obs[adataScaled.obs.ImageID.isin(['3155','3026'])]\n",
    "\n",
    "subDF['isNeuron'] = subDF.neuronID != -1\n",
    "subDF['isOligo'] = subDF.oligoID != -1\n",
    "subDF['isOther'] = (subDF.oligoID == -1) & (subDF.neuronID == -1)\n",
    "\n",
    "subDF['isPredNeuron'] = subDF.phenotype=='Neurons'\n",
    "subDF['isPredOligo'] = subDF.phenotype=='Oligodendrocytes'\n",
    "subDF['isPredOther'] = ~subDF.phenotype.isin(['Neurons','Oligodendrocytes'])\n",
    "#y_true = subDF[['isNeuron','isOligo','isOther']].idxmax(axis=1).astype('category').cat.codes.values\n",
    "#y_pred = subDF[['isPredNeuron','isPredOligo','isPredOther']].idxmax(axis=1).astype('category').cat.codes.values\n",
    "y_true = subDF[['isNeuron','isOligo','isOther']].idxmax(axis=1).map({'isNeuron':0,'isOligo':1,'isOther':2 }).values\n",
    "y_pred = subDF[['isPredNeuron','isPredOligo','isPredOther']].idxmax(axis=1).map({'isPredNeuron':0,'isPredOligo':1,'isPredOther':2 }).values\n",
    "\n",
    "fig, ax=plt.subplots(1,1,figsize=(5,5))\n",
    "sns.heatmap(confusion_matrix(y_true,y_pred,normalize='true' )*100,\n",
    "            cmap='viridis', annot=True, fmt='.2f',ax=ax)\n"
   ]
  },
  {
   "cell_type": "code",
   "execution_count": null,
   "id": "6123cce0",
   "metadata": {
    "scrolled": true
   },
   "outputs": [],
   "source": [
    "subDF = adataScaled.obs[adataScaled.obs.ImageID.isin(['3155'])]\n",
    "subDF['isNeuron'] = subDF.neuronID != -1\n",
    "subDF['isOligo'] = subDF.oligoID != -1\n",
    "subDF['isOther'] = (subDF.oligoID == -1) & (subDF.neuronID == -1)\n",
    "\n",
    "subDF['isPredNeuron'] = subDF.phenotype=='Neurons'\n",
    "subDF['isPredOligo'] = subDF.phenotype=='Oligodendrocytes'\n",
    "subDF['isPredOther'] = ~subDF.phenotype.isin(['Neurons','Oligodendrocytes'])\n",
    "\n",
    "#y_true = subDF[['isNeuron','isOligo','isOther']].idxmax(axis=1).astype('category').cat.codes.values\n",
    "#y_pred = subDF[['isPredNeuron','isPredOligo','isPredOther']].idxmax(axis=1).astype('category').cat.codes.values\n",
    "y_true = subDF[['isNeuron','isOligo','isOther']].idxmax(axis=1).map({'isNeuron':0,'isOligo':1,'isOther':2 }).values\n",
    "y_pred = subDF[['isPredNeuron','isPredOligo','isPredOther']].idxmax(axis=1).map({'isPredNeuron':0,'isPredOligo':1,'isPredOther':2 }).values\n",
    "\n",
    "fig, ax=plt.subplots(1,1,figsize=(5,5))\n",
    "sns.heatmap(confusion_matrix(y_true,y_pred,normalize='true' )*100,\n",
    "            cmap='viridis', annot=True, fmt='.2f',ax=ax)\n"
   ]
  },
  {
   "cell_type": "code",
   "execution_count": null,
   "id": "3f3012d1",
   "metadata": {},
   "outputs": [],
   "source": [
    "import matplotlib as mpl\n",
    "#[255*x for x in mpl.colors.hex2color('#00dbf2')]\n",
    "cMP =mpl.colors.LinearSegmentedColormap.from_list(\"\", [(66, 46, 51),(236, 252, 160)])\n",
    "cMP = mpl.colors.LinearSegmentedColormap.from_list(\"\", ['#422e33','#5b535f','#75ab9d','#89d188','#FDE725'])\n",
    "cMP"
   ]
  },
  {
   "cell_type": "code",
   "execution_count": null,
   "id": "ee9362cb",
   "metadata": {
    "scrolled": true
   },
   "outputs": [],
   "source": [
    "subDF = adataScaled.obs[adataScaled.obs.ImageID.isin(['3155'])]\n",
    "subDF['isNeuron'] = subDF.neuronID != -1\n",
    "subDF['isOligo'] = subDF.oligoID != -1\n",
    "subDF['isOther'] = (subDF.oligoID == -1) & (subDF.neuronID == -1)\n",
    "\n",
    "subDF['isPredNeuron'] = subDF.phenotype=='Neurons'\n",
    "subDF['isPredOligo'] = subDF.phenotype=='Oligodendrocytes'\n",
    "subDF['isPredOther'] = ~subDF.phenotype.isin(['Neurons','Oligodendrocytes'])\n",
    "\n",
    "#y_true = subDF[['isNeuron','isOligo','isOther']].idxmax(axis=1).astype('category').cat.codes.values\n",
    "#y_pred = subDF[['isPredNeuron','isPredOligo','isPredOther']].idxmax(axis=1).astype('category').cat.codes.values\n",
    "y_true = subDF[['isNeuron','isOligo','isOther']].idxmax(axis=1).map({'isNeuron':0,'isOligo':1,'isOther':2 }).values\n",
    "y_pred = subDF[['isPredNeuron','isPredOligo','isPredOther']].idxmax(axis=1).map({'isPredNeuron':0,'isPredOligo':1,'isPredOther':2 }).values\n",
    "\n",
    "fig, ax=plt.subplots(1,1,figsize=(4,4))\n",
    "result = confusion_matrix(y_true,y_pred,normalize='true' )*100\n",
    "labels = (np.asarray([\"{0:.2f}%\".format(value) for value in result.flatten()])).reshape(3, 3)\n",
    "\n",
    "sns.heatmap(result, cmap=cMP,vmax=100,vmin=0, annot=labels, fmt='', ax=ax,cbar=False)\n",
    "ax.set_xticklabels(['Neurons','OligoD','Rest'])\n",
    "ax.set_ylabel('True label')\n",
    "ax.set_yticklabels(['Neurons','OligoD','Rest'])\n",
    "ax.set_xlabel('Predicted label')"
   ]
  },
  {
   "cell_type": "code",
   "execution_count": null,
   "id": "0e7261f0",
   "metadata": {},
   "outputs": [],
   "source": [
    "result"
   ]
  },
  {
   "cell_type": "code",
   "execution_count": null,
   "id": "db61521d",
   "metadata": {},
   "outputs": [],
   "source": [
    "(np.asarray([\"{0:.2f}%\".format(value) for value in result.flatten()])).reshape(3, 3)"
   ]
  },
  {
   "cell_type": "code",
   "execution_count": null,
   "id": "91134240",
   "metadata": {},
   "outputs": [],
   "source": [
    "subDF = adataScaled.obs.copy()\n",
    "subDF['isNeuron'] = subDF.neuronID != -1\n",
    "subDF['isOligo'] = subDF.oligoID != -1\n",
    "subDF['isOther'] = (subDF.oligoID == -1) & (subDF.neuronID == -1)\n",
    "\n",
    "subDF['isPredNeuron'] = subDF.phenotype=='Neurons'\n",
    "subDF['isPredOligo'] = subDF.phenotype=='Oligodendrocytes'\n",
    "subDF['isPredOther'] = ~subDF.phenotype.isin(['Neurons','Oligodendrocytes'])\n",
    "subDF1 = subDF[subDF.ImageID.isin(['3155'])]\n",
    "print(accuracy_score(subDF1['isNeuron'], subDF1['isPredNeuron']), accuracy_score(subDF1['isOligo'], subDF1['isPredOligo']),  accuracy_score(subDF1['isOther'], subDF1['isPredOther']))\n",
    "subDF2 = subDF[subDF.ImageID.isin(['3026'])]\n",
    "print(accuracy_score(subDF2['isNeuron'], subDF2['isPredNeuron']), accuracy_score(subDF2['isOligo'], subDF2['isPredOligo']),  accuracy_score(subDF2['isOther'], subDF2['isPredOther']))\n",
    "subDF2 = subDF.copy()\n",
    "print(accuracy_score(subDF2['isNeuron'], subDF2['isPredNeuron']), accuracy_score(subDF2['isOligo'], subDF2['isPredOligo']),  accuracy_score(subDF2['isOther'], subDF2['isPredOther']))"
   ]
  },
  {
   "cell_type": "code",
   "execution_count": null,
   "id": "d0a5842c",
   "metadata": {},
   "outputs": [],
   "source": [
    "aDF[aDF.Gate==0.5][['Neurons_AD','OligoD_AD','Other_AD']].values[0]*100"
   ]
  },
  {
   "cell_type": "code",
   "execution_count": null,
   "id": "1093f7fd",
   "metadata": {
    "scrolled": true
   },
   "outputs": [],
   "source": [
    "fig,ax=plt.subplots(1,1,figsize=(4,5))\n",
    "sns.barplot(y=aDF[aDF.Gate==0.5][['Neurons_AD','OligoD_AD','Other_AD']].values[0]*100,\n",
    "            x=['Neurons','OligoD','Rest'], ax=ax, palette=['#4CAF50','#FF0055', '#C8C8C8'])\n",
    "ax.set_ylabel(\"Accuracy (%)\")\n",
    "ax.set_ylim(50,100)\n"
   ]
  },
  {
   "cell_type": "code",
   "execution_count": null,
   "id": "fb21b056",
   "metadata": {},
   "outputs": [],
   "source": [
    "fig,ax=plt.subplots(1,1,figsize=(4,5))\n",
    "sns.barplot(y=aDF[aDF.Gate==0.5][['Neurons_Ctl','OligoD_Ctl','Other_Ctl']].values[0]*100,\n",
    "            x=['Neurons','OligoD','Rest'], ax=ax, palette=['#4CAF50','#FF0055', '#C8C8C8'])\n",
    "ax.set_ylabel(\"Accuracy (%)\")\n",
    "ax.set_ylim(50,100)\n",
    "print(aDF[aDF.Gate==0.5][['Neurons_Ctl','OligoD_Ctl','Other_Ctl']].values[0]*100)"
   ]
  },
  {
   "cell_type": "code",
   "execution_count": null,
   "id": "ae4d0274",
   "metadata": {},
   "outputs": [],
   "source": [
    "subDF.isPredOligo.value_counts(), subDF.isOligo.value_counts()"
   ]
  },
  {
   "cell_type": "code",
   "execution_count": null,
   "id": "b22854db",
   "metadata": {},
   "outputs": [],
   "source": [
    "subDF.phenotype.value_counts()"
   ]
  },
  {
   "cell_type": "code",
   "execution_count": null,
   "id": "3c6ca7c7",
   "metadata": {},
   "outputs": [],
   "source": [
    "subDF.phenotype"
   ]
  },
  {
   "cell_type": "code",
   "execution_count": null,
   "id": "668b9e63",
   "metadata": {
    "scrolled": true
   },
   "outputs": [],
   "source": [
    "subDF"
   ]
  },
  {
   "cell_type": "code",
   "execution_count": null,
   "id": "18abf604",
   "metadata": {},
   "outputs": [],
   "source": [
    "subDF[['isNeuron','isOligo','isOther']].idxmax(axis=1).astype('category').cat.codes.values"
   ]
  },
  {
   "cell_type": "code",
   "execution_count": null,
   "id": "9b7b9c2f",
   "metadata": {},
   "outputs": [],
   "source": [
    "subDF[['isPredNeuron','isPredOligo','isPredOther']].idxmax(axis=1).astype('category').cat.codes.values"
   ]
  },
  {
   "cell_type": "code",
   "execution_count": null,
   "id": "49f9311b",
   "metadata": {},
   "outputs": [],
   "source": []
  },
  {
   "cell_type": "code",
   "execution_count": null,
   "id": "2c2c1a27",
   "metadata": {},
   "outputs": [],
   "source": [
    "subDF[['isPredNeuron','isPredOligo','isPredOther']].idxmax(axis=1).astype('category')"
   ]
  },
  {
   "cell_type": "code",
   "execution_count": null,
   "id": "44728920",
   "metadata": {},
   "outputs": [],
   "source": [
    "subDF[['isPredNeuron','isPredOligo','isPredOther']].idxmax(axis=1).astype('category')"
   ]
  },
  {
   "cell_type": "code",
   "execution_count": null,
   "id": "21ef1b67",
   "metadata": {
    "scrolled": true
   },
   "outputs": [],
   "source": [
    "y_true[0], y_pred"
   ]
  },
  {
   "cell_type": "code",
   "execution_count": null,
   "id": "34f2f292",
   "metadata": {},
   "outputs": [],
   "source": []
  },
  {
   "cell_type": "code",
   "execution_count": null,
   "id": "26f22949",
   "metadata": {},
   "outputs": [],
   "source": [
    "subDF = adataScaled.obs[adataScaled.obs.ImageID.isin(['3155'])]\n",
    "\n",
    "fig, ax=plt.subplots(2,1,figsize=(3,5))\n",
    "sns.heatmap(confusion_matrix((subDF.neuronID != -1), (subDF.phenotype=='Neurons'),normalize='true')*100,\n",
    "            cmap='viridis', annot=True, fmt='.2f',ax=ax[0])\n",
    "ax[0].set_xticklabels([])\n",
    "ax[0].set_ylabel('True')\n",
    "ax[0].set_title('Neurons')\n",
    "\n",
    "sns.heatmap(confusion_matrix((subDF.oligoID != -1), (subDF.phenotype=='Oligodendrocytes'),normalize='true')*100,\n",
    "            cmap='viridis', annot=True, fmt='.2f',ax=ax[1])\n",
    "ax[1].set_ylabel('True')\n",
    "ax[1].set_xlabel('Predicted')\n",
    "ax[1].set_title('Oligodendrocytes')"
   ]
  },
  {
   "cell_type": "code",
   "execution_count": null,
   "id": "a9ac5866",
   "metadata": {},
   "outputs": [],
   "source": [
    "#sns.scatterplot(x=pDF.Neurons_AD,y=aDF.Neurons_AD, hue=pDF.Gate)\n",
    "#sns.scatterplot(x=pDF.OligoD_Combined,y=aDF.OligoD_Combined, hue=pDF.Gate)"
   ]
  },
  {
   "cell_type": "code",
   "execution_count": null,
   "id": "1f379bb3",
   "metadata": {},
   "outputs": [],
   "source": [
    "aDF.plot(x='Gate',y=['Neurons_AD','Neurons_Ctl','Neurons_Combined'])\n",
    "aDF.plot(x='Gate',y=['OligoD_AD','OligoD_Ctl','OligoD_Combined'])"
   ]
  },
  {
   "cell_type": "code",
   "execution_count": null,
   "id": "b8a39a66",
   "metadata": {
    "scrolled": true
   },
   "outputs": [],
   "source": [
    "aDF.plot(x='Gate',y=['Neurons_AD','Neurons_Ctl','Neurons_Combined'])\n",
    "aDF.plot(x='Gate',y=['OligoD_AD','OligoD_Ctl','OligoD_Combined'])\n",
    "\n",
    "pDF.plot(x='Gate',y=['Neurons_AD','Neurons_Ctl','Neurons_Combined'])\n",
    "pDF.plot(x='Gate',y=['OligoD_AD','OligoD_Ctl','OligoD_Combined'])\n",
    "\n",
    "rDF.plot(x='Gate',y=['Neurons_AD','Neurons_Ctl','Neurons_Combined'])\n",
    "rDF.plot(x='Gate',y=['OligoD_AD','OligoD_Ctl','OligoD_Combined'])"
   ]
  },
  {
   "cell_type": "code",
   "execution_count": null,
   "id": "ec76bd8c",
   "metadata": {
    "scrolled": true
   },
   "outputs": [],
   "source": [
    "pDF[['Neurons_Combined','OligoD_Combined']].mean(axis=1).idxmax(), rDF[['Neurons_Combined','OligoD_Combined']].median(axis=1).idxmax(), aDF[['Neurons_Combined','OligoD_Combined']].mean(axis=1).idxmax()"
   ]
  },
  {
   "cell_type": "code",
   "execution_count": null,
   "id": "67ab6700",
   "metadata": {},
   "outputs": [],
   "source": [
    "aDF[['Neurons_Combined','OligoD_Combined']].mean(axis=1).max()"
   ]
  },
  {
   "cell_type": "code",
   "execution_count": null,
   "id": "6ef1f262",
   "metadata": {
    "tags": []
   },
   "outputs": [],
   "source": [
    "pd.concat([pDF[['Gate','Neurons_Combined','OligoD_Combined']],\n",
    "           rDF[['Neurons_Combined','OligoD_Combined']],\n",
    "           aDF[['Neurons_Combined','OligoD_Combined']]],axis=1)"
   ]
  },
  {
   "cell_type": "code",
   "execution_count": null,
   "id": "83451101",
   "metadata": {},
   "outputs": [],
   "source": [
    "adataScaled = sm.tl.phenotype_cells(adata, phenotype= pheno, gate=0.5)\n"
   ]
  },
  {
   "cell_type": "code",
   "execution_count": null,
   "id": "c2f80552",
   "metadata": {},
   "outputs": [],
   "source": [
    "adataScaled.obs.phenotype = adataScaled.obs.phenotype.map({'Neurons':'Neurons',\n",
    "                                                           'Astrocytes':'Astrocytes',\n",
    "                                                           'Microglia':'Microglia',\n",
    "                                                           'Oligodendrocytes':'Oligodendrocytes',\n",
    "                                                           'Unknown':'Other'})"
   ]
  },
  {
   "cell_type": "code",
   "execution_count": null,
   "id": "fe285030",
   "metadata": {},
   "outputs": [],
   "source": [
    "adataScaled.obs.phenotype.value_counts()"
   ]
  },
  {
   "cell_type": "code",
   "execution_count": null,
   "id": "999fe441",
   "metadata": {},
   "outputs": [],
   "source": [
    "sc.pl.palettes.godsnot_102[:8]"
   ]
  },
  {
   "cell_type": "code",
   "execution_count": null,
   "id": "6c3de6d4",
   "metadata": {},
   "outputs": [],
   "source": [
    "cL2=['#FFFF00', '#00DBF2', '#33FF33','#ff00ff', '#FF0055', '#EB984E','#3366FF']\n",
    "cL=['#FDD835', '#00DBF2', '#4CAF50','#FF0055', '#3366FF']\n",
    "#cL = ['#FFFF00', '#00DBF2', '#33FF33', '#FF0055', '#ff00ff','#EB984E','#3366FF']\n",
    "cMapDict = {sorted(adataScaled.obs.phenotype.unique())[i]: cL[i] for i in range(len(adataScaled.obs.phenotype.unique()))}\n",
    "cMapDict"
   ]
  },
  {
   "cell_type": "code",
   "execution_count": null,
   "id": "5ad88e23",
   "metadata": {
    "scrolled": true
   },
   "outputs": [],
   "source": [
    "adataScaled.obsm['X_spatial'] = adataScaled.obs[['spatial_X','spatial_Y']].values\n",
    "adataScaled.obsm['X_spatial'][:,1] = -1*adataScaled.obsm['X_spatial'][:,1]\n",
    "#adataScaled.write('../vitesscePy/QuPathDemo/1796allProt.h5ad')\n",
    "\n",
    "import matplotlib.pyplot as plt\n",
    "fig,ax=plt.subplots(1,1,figsize=(12,8))\n",
    "ss = adataScaled[adataScaled.obs.ImageID=='3155']\n",
    "#ss.obs.phenotype=ss.obs.phenotype.astype('category')\n",
    "\n",
    "sc.pl.scatter(ss, basis='spatial',color=['phenotype'],ax=ax,size=9,title='',save='AD_Class',\n",
    "              alpha=0.9, palette=cMapDict.values())\n",
    "#save='AD_Class.png',\n",
    "#fig,ax=plt.subplots(1,1,figsize=(12,8))\n",
    "#ss = sc.pp.subsample(adataScaled[adataScaled.obs.ImageID=='3155'],fraction=1.0, copy=True)\n",
    "#sc.pl.scatter(ss, basis='spatial',color=['leiden'],ax=ax,size=10,title='',save='ADLx2.png',alpha=0.9,palette=sc.pl.palettes.godsnot_102)"
   ]
  },
  {
   "cell_type": "code",
   "execution_count": null,
   "id": "78256626",
   "metadata": {
    "scrolled": true
   },
   "outputs": [],
   "source": [
    "adataScaled.obsm['X_spatial'] = adataScaled.obs[['spatial_X','spatial_Y']].values\n",
    "adataScaled.obsm['X_spatial'][:,1] = -1*adataScaled.obsm['X_spatial'][:,1]\n",
    "#adataScaled.write('../vitesscePy/QuPathDemo/1796allProt.h5ad')\n",
    "\n",
    "import matplotlib.pyplot as plt\n",
    "fig,ax=plt.subplots(1,1,figsize=(12,8))\n",
    "ss = adataScaled[adataScaled.obs.ImageID=='3026']\n",
    "#ss.obs.phenotype=ss.obs.phenotype.astype('category')\n",
    "\n",
    "sc.pl.scatter(ss, basis='spatial',color=['phenotype'],ax=ax,size=10,title='',save='Ctl_Class.png',alpha=0.9, palette=cL)\n",
    "#fig,ax=plt.subplots(1,1,figsize=(12,8))\n",
    "#ss = sc.pp.subsample(adataScaled[adataScaled.obs.ImageID=='3155'],fraction=1.0, copy=True)\n",
    "#sc.pl.scatter(ss, basis='spatial',color=['leiden'],ax=ax,size=10,title='',save='ADLx2.png',alpha=0.9,palette=sc.pl.palettes.godsnot_102)"
   ]
  },
  {
   "cell_type": "code",
   "execution_count": null,
   "id": "593f28dc",
   "metadata": {},
   "outputs": [],
   "source": [
    "fig,ax=plt.subplots(1,1,figsize=(12,8))\n",
    "sns.set_style('white')\n",
    "ss = adataScaled[adataScaled.obs.ImageID=='3155']\n",
    "\n",
    "sns.scatterplot(data=ss.obs,x='spatial_X',y='spatial_Y',hue='phenotype', \n",
    "                palette=cMapDict, s=2, alpha=0.9)\n",
    "ax.invert_yaxis()\n",
    "plt.axis('off')\n",
    "ax.legend().remove()\n",
    "plt.tight_layout()\n",
    "plt.savefig('finalFiguresv4/AD_Class.png', dpi=300)"
   ]
  },
  {
   "cell_type": "code",
   "execution_count": null,
   "id": "62e2bf24",
   "metadata": {
    "scrolled": true
   },
   "outputs": [],
   "source": [
    "fig,ax=plt.subplots(1,1,figsize=(9,8))\n",
    "sns.set_style('white')\n",
    "ss = adataScaled[adataScaled.obs.ImageID=='3026']\n",
    "\n",
    "sns.scatterplot(data=ss.obs,x='spatial_X',y='spatial_Y',hue='phenotype', \n",
    "                palette=cMapDict, s=2)\n",
    "ax.invert_yaxis()\n",
    "plt.axis('off')\n",
    "ax.legend().remove()\n",
    "plt.tight_layout()\n",
    "plt.savefig('finalFiguresv4/Ctl_Class.png', dpi=300)"
   ]
  },
  {
   "cell_type": "code",
   "execution_count": null,
   "id": "75e1469c",
   "metadata": {},
   "outputs": [],
   "source": [
    "ss = adataScaled[adataScaled.obs.ImageID=='3155']\n",
    "\n",
    "100*(ss.obs.groupby(['Parent','phenotype']).size())/ss.obs.groupby(['Parent']).size()"
   ]
  },
  {
   "cell_type": "code",
   "execution_count": null,
   "id": "28e41a28",
   "metadata": {},
   "outputs": [],
   "source": [
    "ss"
   ]
  },
  {
   "cell_type": "code",
   "execution_count": null,
   "id": "7d0127b1",
   "metadata": {},
   "outputs": [],
   "source": [
    "75+4.2+3.3+8.4+9.1"
   ]
  },
  {
   "cell_type": "code",
   "execution_count": null,
   "id": "5bd79945",
   "metadata": {},
   "outputs": [],
   "source": [
    "#!pip install descartes"
   ]
  },
  {
   "cell_type": "code",
   "execution_count": null,
   "id": "186ddaae",
   "metadata": {},
   "outputs": [],
   "source": [
    "import alphashape\n",
    "from descartes import PolygonPatch\n",
    "\n",
    "ssN = ss.obs[(ss.obs.Parent=='Grey Matter') & (ss.obs.spatial_X)<5000]\n",
    "print(ssN.shape)\n",
    "alp = alphashape.alphashape(ssN[['spatial_X','spatial_Y']].values,1)"
   ]
  },
  {
   "cell_type": "code",
   "execution_count": null,
   "id": "ec1ad0c2",
   "metadata": {},
   "outputs": [],
   "source": [
    "alp.geoms"
   ]
  },
  {
   "cell_type": "code",
   "execution_count": null,
   "id": "b75d7caa",
   "metadata": {
    "scrolled": true
   },
   "outputs": [],
   "source": [
    "fig,ax=plt.subplots(1,1,figsize=(12,8))\n",
    "sns.set_style('white')\n",
    "sns.scatterplot(data=ss.obs,x='spatial_X',y='spatial_Y',hue='Parent', \n",
    "                palette=['tab:blue','tab:pink'], s=1.5)\n",
    "ax.add_patch(PolygonPatch(alp, alpha=0.5))\n",
    "ax.invert_yaxis()\n",
    "plt.axis('off')\n",
    "ax.legend().remove()\n",
    "plt.tight_layout()\n",
    "plt.savefig('finalFiguresv4/AD_Class.png', dpi=300)"
   ]
  },
  {
   "cell_type": "code",
   "execution_count": null,
   "id": "32bf83a0",
   "metadata": {},
   "outputs": [],
   "source": [
    "\n",
    "\n",
    "import matplotlib.pyplot as plt\n",
    "fig,ax=plt.subplots(1,1,figsize=(12,8))\n",
    "ss = adataScaled[adataScaled.obs.ImageID=='3155']\n",
    "#ss.obs.phenotype=ss.obs.phenotype.astype('category')\n",
    "\n",
    "sc.pl.scatter(ss, basis='spatial',color=['Parent'],ax=ax,size=9,title='',\n",
    "              alpha=0.9, palette=['tab:blue','tab:pink'])\n",
    "\n",
    "plt.axis('off')\n",
    "plt.savefig('finalFiguresv4/AD_Region.png', dpi=300)\n",
    "#save='AD_Class.png',\n",
    "#fig,ax=plt.subplots(1,1,figsize=(12,8))\n",
    "#ss = sc.pp.subsample(adataScaled[adataScaled.obs.ImageID=='3155'],fraction=1.0, copy=True)\n",
    "#sc.pl.scatter(ss, basis='spatial',color=['leiden'],ax=ax,size=10,title='',save='ADLx2.png',alpha=0.9,palette=sc.pl.palettes.godsnot_102)"
   ]
  },
  {
   "cell_type": "code",
   "execution_count": null,
   "id": "95da61e2",
   "metadata": {},
   "outputs": [],
   "source": [
    "#!pip install alphashape"
   ]
  },
  {
   "cell_type": "code",
   "execution_count": null,
   "id": "1b6a53b7",
   "metadata": {},
   "outputs": [],
   "source": []
  },
  {
   "cell_type": "code",
   "execution_count": null,
   "id": "abe3300c",
   "metadata": {},
   "outputs": [],
   "source": [
    "sc.pl.matrixplot(adataScaled, groupby='phenotype', figsize=(6,3),var_names=['NeuN','GFAP','Olig2','IBA1'],categories_order = ['Neurons','Astrocytes','Oligodendrocytes','Microglia','Other'],\n",
    "                 dendrogram=False, use_raw=False, cmap=\"inferno\",standard_scale=None,vmin=-0.0,vmax=0.7,vcenter=0.5, return_fig=False,swap_axes=False, save='_ClassificationCells.png')"
   ]
  },
  {
   "cell_type": "code",
   "execution_count": null,
   "id": "73baa727",
   "metadata": {},
   "outputs": [],
   "source": [
    "ss.obs.phenotype"
   ]
  },
  {
   "cell_type": "code",
   "execution_count": null,
   "id": "40d564ed-04d9-4db9-b5ef-24d5f0ba24a1",
   "metadata": {},
   "outputs": [],
   "source": [
    "#import rapids_scanpy_funcs as rs\n"
   ]
  },
  {
   "cell_type": "code",
   "execution_count": null,
   "id": "d362b541-fa66-4724-b972-67d4ea7efcc2",
   "metadata": {},
   "outputs": [],
   "source": [
    "sc.tl.pca(adataScaled, svd_solver='arpack') # peform PCA\n",
    "#sc.pl.pca(adataScaled, color=protDF.columns)\n",
    "#sc.pl.pca(adataScaled, color=['ImageID'])\n"
   ]
  },
  {
   "cell_type": "code",
   "execution_count": null,
   "id": "1300e944-95b5-406f-baa7-c2c988c538ea",
   "metadata": {
    "scrolled": true,
    "tags": []
   },
   "outputs": [],
   "source": [
    "sc.pl.pca(sc.pp.subsample(adataScaled,fraction=0.1, copy=True), color=protDF.columns,use_raw=False)"
   ]
  },
  {
   "cell_type": "code",
   "execution_count": null,
   "id": "9eaa65e3-a3d1-410d-bc95-8a2e35aed880",
   "metadata": {},
   "outputs": [],
   "source": [
    "#sc.pp.neighbors(adataScaled, n_neighbors=30, n_pcs=20) # Computing the neighborhood graph\n",
    "sc.pp.neighbors(adataScaled, n_neighbors=50, n_pcs=15) # Computing the neighborhood graph\n"
   ]
  },
  {
   "cell_type": "code",
   "execution_count": null,
   "id": "68c5707c-f8d9-4f32-9288-fc4d5ebe700f",
   "metadata": {},
   "outputs": [],
   "source": [
    "adataScaled"
   ]
  },
  {
   "cell_type": "code",
   "execution_count": null,
   "id": "fed651b4-54bd-4d1e-86b7-e3cf15a13677",
   "metadata": {},
   "outputs": [],
   "source": [
    "sc.tl.umap(adataScaled) # Build a UMAP to visualize the neighbourhood graph\n"
   ]
  },
  {
   "cell_type": "code",
   "execution_count": null,
   "id": "0944ed66-59f1-4d94-8d57-aea217c91d8d",
   "metadata": {},
   "outputs": [],
   "source": [
    "sc.pl.umap(sc.pp.subsample(adataScaled,fraction=0.5, copy=True), color=protDF.columns, save='xx.png', use_raw=False)\n"
   ]
  },
  {
   "cell_type": "code",
   "execution_count": null,
   "id": "0afa49da-ceea-400b-83b6-571be9c01842",
   "metadata": {},
   "outputs": [],
   "source": [
    "sc.pl.umap(adataScaled, color=['phenotype'], palette=sc.pl.palettes.vega_10)\n",
    "\n",
    "\n",
    "sc.pl.umap(adataScaled, color=['Parent'], palette=sc.pl.palettes.godsnot_102[1:3])\n",
    "sc.pl.umap(adataScaled, color=['ImageType'], palette=sc.pl.palettes.godsnot_102[3:5])\n",
    "sc.pl.umap(adataScaled, color=['ImageID'], palette=sc.pl.palettes.godsnot_102[5:13])"
   ]
  },
  {
   "cell_type": "code",
   "execution_count": null,
   "id": "1fee12ef-fe84-40ef-918d-af649c2b46c0",
   "metadata": {},
   "outputs": [],
   "source": [
    "sc.pl.umap(adataScaled, color=['ImageID','phenotype','ImageType','Parent'], ncols=2,save='_Cell_seg_Classification.png')"
   ]
  },
  {
   "cell_type": "code",
   "execution_count": null,
   "id": "d9441e2f-73dc-4dcc-8c36-f2b032384be6",
   "metadata": {},
   "outputs": [],
   "source": [
    "adataScaled.obs"
   ]
  },
  {
   "cell_type": "code",
   "execution_count": null,
   "id": "931f2967-400b-4263-a3fe-90929d92203a",
   "metadata": {},
   "outputs": [],
   "source": [
    "adataScaled.obs.phenotype.value_counts(sort=True)"
   ]
  },
  {
   "cell_type": "code",
   "execution_count": null,
   "id": "94637b15",
   "metadata": {},
   "outputs": [],
   "source": [
    "adataScaled.obs['Annotations']=adataScaled.obs.phenotype.values"
   ]
  },
  {
   "cell_type": "code",
   "execution_count": null,
   "id": "2e9af1f2-31ff-4b3e-b4a9-cec80e185edb",
   "metadata": {},
   "outputs": [],
   "source": [
    "import matplotlib.pyplot as plt\n",
    "fig,ax=plt.subplots(1,1,figsize=(12,8))\n",
    "#ss = sc.pp.subsample(adataScaled[adataScaled.obs.ImageID=='3026'],fraction=1.0, copy=True)\n",
    "ss = adataScaled[adataScaled.obs.ImageID=='3026']\n",
    "#ss.obs.Annotations=ss.obs.Annotations.astype('category')\n",
    "\n",
    "sc.pl.scatter(ss, basis='spatial',color=['Annotations'],ax=ax,size=8,title='',save='CtlLxClass.png',alpha=0.9, )\n",
    "fig,ax=plt.subplots(1,1,figsize=(12,8))\n",
    "ss = adataScaled[adataScaled.obs.ImageID=='3155']\n",
    "sc.pl.scatter(ss, basis='spatial',color=['Annotations'],ax=ax,size=8,title='',save='ADLxClass.png',alpha=0.9)"
   ]
  },
  {
   "cell_type": "code",
   "execution_count": null,
   "id": "7775b667-594a-4b63-8ba5-97cca4c40d75",
   "metadata": {
    "scrolled": true
   },
   "outputs": [],
   "source": [
    "sc.pl.matrixplot(adataScaled, groupby='phenotype', figsize=(8,3),var_names=['Olig2','NeuN','GFAP','IBA1'],\n",
    "                 dendrogram=True, use_raw=False, cmap=\"inferno\",standard_scale=None,vmin=0,vmax=0.75,vcenter=0.5, return_fig=False,swap_axes=False, save='_ClusteringCells.png')"
   ]
  },
  {
   "cell_type": "code",
   "execution_count": null,
   "id": "7e24126e-0ec3-4dc3-aed7-75fd59ea4de1",
   "metadata": {},
   "outputs": [],
   "source": [
    "corrDF = protDF.corr('spearman')"
   ]
  },
  {
   "cell_type": "code",
   "execution_count": null,
   "id": "68159472-d6b8-4adf-842c-e77613f92a91",
   "metadata": {},
   "outputs": [],
   "source": [
    "import matplotlib.pyplot as plt\n",
    "#fig,ax=plt.subplots(1,1,figsize=(20,20))\n",
    "ax3 = sns.clustermap(corrDF, vmin=0, vmax=1, figsize=(8,8),yticklabels=True, xticklabels=True, cmap='inferno')"
   ]
  },
  {
   "cell_type": "code",
   "execution_count": null,
   "id": "0335f71d-9143-483e-87ca-6e3d40482c4c",
   "metadata": {},
   "outputs": [],
   "source": [
    "adataScaled.obsm['X_spatial'] = adataScaled.obs[['spatial_X','spatial_Y']].values\n",
    "adataScaled.obsm['X_spatial'][:,1] = -1*adataScaled.obsm['X_spatial'][:,1]\n",
    "adataScaled.write('Fig3.h5ad')"
   ]
  },
  {
   "cell_type": "code",
   "execution_count": null,
   "id": "739433af-eabe-47d3-b168-3f9356fa0caa",
   "metadata": {},
   "outputs": [],
   "source": [
    "#adataScaled.write_zarr('../vitesscePy/QuPathDemo/1796_subsetP.zarr')"
   ]
  },
  {
   "cell_type": "code",
   "execution_count": null,
   "id": "16cd8691-3f7a-4369-8d3f-e35a63199aa1",
   "metadata": {},
   "outputs": [],
   "source": [
    "ad.__version__"
   ]
  },
  {
   "cell_type": "code",
   "execution_count": null,
   "id": "bbc30e62-51be-44c8-a2bd-53953f76a038",
   "metadata": {},
   "outputs": [],
   "source": [
    "#ad.read_csv("
   ]
  },
  {
   "cell_type": "code",
   "execution_count": null,
   "id": "89fa30c5-b716-4084-8f14-28e4469509ea",
   "metadata": {},
   "outputs": [],
   "source": [
    "adataScaled.obs"
   ]
  },
  {
   "cell_type": "code",
   "execution_count": null,
   "id": "7dc01bc5-aecb-4661-afb0-478db243f07c",
   "metadata": {},
   "outputs": [],
   "source": [
    "#adataScaled.obs.to_csv('1796_leiden.csv')\n",
    "adataScaled.obs.ImageID.unique()"
   ]
  },
  {
   "cell_type": "code",
   "execution_count": null,
   "id": "7a9ab82a",
   "metadata": {},
   "outputs": [],
   "source": []
  },
  {
   "cell_type": "code",
   "execution_count": null,
   "id": "56189b5b-02d7-468d-a9f2-d03ee7ee92eb",
   "metadata": {},
   "outputs": [],
   "source": [
    "sc.pl.umap(adataScaled, color=['phenotype'], palette=sc.pl.palettes.vega_10, save='_CellsAnnotated_Class.png')"
   ]
  },
  {
   "cell_type": "code",
   "execution_count": null,
   "id": "7dd8490b-6036-4892-9591-f2a1e48cefd4",
   "metadata": {},
   "outputs": [],
   "source": [
    "cMapDict = {sorted(adataScaled.obs.Annotations.unique())[i]: adataScaled.uns['Annotations_colors'][i] for i in range(len(adataScaled.obs.Annotations.unique()))}"
   ]
  },
  {
   "cell_type": "code",
   "execution_count": null,
   "id": "f4551ca7-43d4-4d7a-a59d-acec955c1aa3",
   "metadata": {},
   "outputs": [],
   "source": [
    "import matplotlib.pyplot as plt\n",
    "fig,ax=plt.subplots(1,1,figsize=(8,8))\n",
    "ax.pie(adataScaled.obs.Annotations.value_counts(),explode=[0.05]*len(adataScaled.obs.Annotations.value_counts().unique()),pctdistance=-0.85,startangle=0,\n",
    "        labels=[f\"{ix}({x})\" for ix, x in adataScaled.obs.Annotations.value_counts().items()], colors=[cMapDict[c] for c in adataScaled.obs.Annotations.value_counts().index],\n",
    "      textprops = {\"fontsize\":14})\n",
    "#plt.set_cmap('Set2')\n",
    "\n",
    "#draw circle\n",
    "centre_circle = plt.Circle((0,0),0.50,fc='white')\n",
    "#fig = plt.gcf()\n",
    "ax.add_artist(centre_circle)\n",
    "plt.tight_layout()\n"
   ]
  },
  {
   "cell_type": "code",
   "execution_count": null,
   "id": "ba74745d",
   "metadata": {},
   "outputs": [],
   "source": []
  },
  {
   "cell_type": "code",
   "execution_count": null,
   "id": "a31ba8de",
   "metadata": {},
   "outputs": [],
   "source": [
    "adataScaled.obs['Annotations']=adataScaled.obs.phenotype.values\n",
    "cL = ['#FDD835', '#00DBF2', '#4CAF50', '#FF0055', '#3366FF']\n",
    "#cL = ['#FFFF00', '#00DBF2', '#33FF33', '#FF0055', '#ff00ff','#EB984E','#3366FF']\n",
    "cMapDict = {sorted(adataScaled.obs.Annotations.unique())[i]: cL[i] for i in range(len(adataScaled.obs.Annotations.unique()))}"
   ]
  },
  {
   "cell_type": "code",
   "execution_count": null,
   "id": "6b6825bf",
   "metadata": {},
   "outputs": [],
   "source": [
    "cL = ['#FDD835', '#00DBF2', '#4CAF50', '#FF0055', '#3366FF']\n",
    "#cL = ['#FFFF00', '#00DBF2', '#33FF33', '#FF0055', '#ff00ff','#EB984E','#3366FF']\n",
    "cMapDict = {sorted(adataScaled.obs.Annotations.unique())[i]: cL[i] for i in range(len(adataScaled.obs.Annotations.unique()))}"
   ]
  },
  {
   "cell_type": "code",
   "execution_count": null,
   "id": "3682ac58-98af-46c5-9f71-d26ad6b04136",
   "metadata": {},
   "outputs": [],
   "source": [
    "import matplotlib.pyplot as plt\n",
    "fig,ax=plt.subplots(1,2,figsize=(12,6))\n",
    "adataScaled2 = adataScaled[adataScaled.obs.ImageType=='Ctl'].copy()\n",
    "\n",
    "#cMapDict = {sorted(adataScaled2.obs.Annotations.unique())[i]: adataScaled.uns['Annotations_colors'][i] for i in range(len(adataScaled2.obs.Annotations.unique()))}\n",
    "count_DF  = adataScaled2.obs[adataScaled2.obs.Parent=='Grey Matter'].sample(frac=1).Annotations.value_counts()\n",
    "keepOrder = count_DF.index\n",
    "ax[0].pie(count_DF,explode=[0.05]*len(adataScaled2.obs.Annotations.unique()),pctdistance=-0.85,startangle=0,\n",
    "        #labels=[f\"{ix}({x})\" for ix, x in count_DF.items()], colors=[cMapDict[c] for c in keepOrder],\n",
    "         labels=[f\"{x}\" for ix, x in count_DF.items()], colors=[cMapDict[c] for c in keepOrder],\n",
    "      textprops = {\"fontsize\":12})\n",
    "#plt.set_cmap('Set2')\n",
    "ax[0].set_title('Control - Grey Matter')\n",
    "#draw circle\n",
    "centre_circle = plt.Circle((0,0),0.50,fc='white')\n",
    "#fig = plt.gcf()\n",
    "ax[0].add_artist(centre_circle)\n",
    "plt.tight_layout()\n",
    "count_DF  = adataScaled2.obs[adataScaled2.obs.Parent=='White Matter'].sample(frac=1).Annotations.value_counts()\n",
    "keepOrder = count_DF.index\n",
    "\n",
    "ax[1].pie(count_DF.loc[keepOrder],explode=[0.05]*len(adataScaled2.obs.Annotations.unique()),pctdistance=-0.85,startangle=0,\n",
    "        #labels=[f\"{ix}({x})\" for ix, x in count_DF.items()], colors=[cMapDict[c] for c in keepOrder],\n",
    "          labels=[f\"{x}\" for ix, x in count_DF.items()], colors=[cMapDict[c] for c in keepOrder],\n",
    "      textprops = {\"fontsize\":12})\n",
    "#plt.set_cmap('Set2')\n",
    "ax[1].set_title('Control - White Matter')\n",
    "#draw circle\n",
    "centre_circle = plt.Circle((0,0),0.50,fc='white')\n",
    "#fig = plt.gcf()\n",
    "ax[1].add_artist(centre_circle)\n",
    "plt.tight_layout()\n",
    "plt.savefig('finalFiguresv4/Cells_Control_GMWM_CellNum_Class.png',dpi=600)"
   ]
  },
  {
   "cell_type": "code",
   "execution_count": null,
   "id": "e155276b",
   "metadata": {},
   "outputs": [],
   "source": [
    "adataScaled.obs.Annotations.value_counts()"
   ]
  },
  {
   "cell_type": "code",
   "execution_count": null,
   "id": "e09070c1-f197-44fc-b4fd-9f6b89ba0dcf",
   "metadata": {},
   "outputs": [],
   "source": [
    "import matplotlib.pyplot as plt\n",
    "fig,ax=plt.subplots(1,2,figsize=(12,6))\n",
    "adataScaled2 = adataScaled[adataScaled.obs.ImageType=='AD'].copy()\n",
    "\n",
    "#cMapDict = {sorted(adataScaled2.obs.Annotations.unique())[i]: adataScaled.uns['Annotations_colors'][i] for i in range(len(adataScaled2.obs.Annotations.unique()))}\n",
    "count_DF  = adataScaled2.obs[adataScaled2.obs.Parent=='Grey Matter'].sample(frac=1).Annotations.value_counts()\n",
    "keepOrder = count_DF.index\n",
    "ax[0].pie(count_DF,explode=[0.05]*len(adataScaled2.obs.Annotations.unique()),pctdistance=-0.85,startangle=0,\n",
    "        #labels=[f\"{ix}({x})\" for ix, x in count_DF.items()], colors=[cMapDict[c] for c in keepOrder],\n",
    "         labels=[f\"{x}\" for ix, x in count_DF.items()], colors=[cMapDict[c] for c in keepOrder],\n",
    "      textprops = {\"fontsize\":12})\n",
    "#plt.set_cmap('Set2')\n",
    "ax[0].set_title('AD - Grey Matter')\n",
    "#draw circle\n",
    "centre_circle = plt.Circle((0,0),0.50,fc='white')\n",
    "#fig = plt.gcf()\n",
    "ax[0].add_artist(centre_circle)\n",
    "plt.tight_layout()\n",
    "count_DF  = adataScaled2.obs[adataScaled2.obs.Parent=='White Matter'].sample(frac=1).Annotations.value_counts()\n",
    "keepOrder = count_DF.index\n",
    "\n",
    "ax[1].pie(count_DF.loc[keepOrder],explode=[0.05]*len(adataScaled2.obs.Annotations.unique()),pctdistance=-0.85,startangle=0,\n",
    "        #labels=[f\"{ix}({x})\" for ix, x in count_DF.items()], colors=[cMapDict[c] for c in keepOrder],\n",
    "          labels=[f\"{x}\" for ix, x in count_DF.items()], colors=[cMapDict[c] for c in keepOrder],\n",
    "      textprops = {\"fontsize\":12})\n",
    "#plt.set_cmap('Set2')\n",
    "ax[1].set_title('AD - White Matter')\n",
    "#draw circle\n",
    "centre_circle = plt.Circle((0,0),0.50,fc='white')\n",
    "#fig = plt.gcf()\n",
    "ax[1].add_artist(centre_circle)\n",
    "plt.tight_layout()\n",
    "plt.savefig('finalFiguresv4/Cells_AD_GMWM_CellNum_Class.png',dpi=600)"
   ]
  },
  {
   "cell_type": "code",
   "execution_count": null,
   "id": "4a092523",
   "metadata": {},
   "outputs": [],
   "source": [
    "#adataScaled.obs['Annotations'] =adataScaled.obs.phenotype.values"
   ]
  },
  {
   "cell_type": "code",
   "execution_count": null,
   "id": "17e7cfbb",
   "metadata": {},
   "outputs": [],
   "source": [
    "adataScaled"
   ]
  },
  {
   "cell_type": "code",
   "execution_count": null,
   "id": "ae13151c",
   "metadata": {},
   "outputs": [],
   "source": [
    "#cMapDict = {sorted(adataScaled.obs.Annotations.unique())[i]: adataScaled.uns['Annotations_colors'][i] for i in range(len(adataScaled.obs.Annotations.unique()))}"
   ]
  },
  {
   "cell_type": "code",
   "execution_count": null,
   "id": "8b117dd8-b15c-4c96-ac9b-fbf834539201",
   "metadata": {},
   "outputs": [],
   "source": [
    "import matplotlib.pyplot as plt\n",
    "fig,ax=plt.subplots(1,2,figsize=(12,6))\n",
    "adataScaled2 = adataScaled[adataScaled.obs.ImageType=='AD'].copy()\n",
    "\n",
    "#cMapDict = {sorted(adataScaled2.obs.Annotations.unique())[i]: adataScaled.uns['Annotations_colors'][i] for i in range(len(adataScaled2.obs.Annotations.unique()))}\n",
    "count_DF  = adataScaled2.obs[adataScaled2.obs.Parent=='Grey Matter'].sample(frac=1).Annotations.value_counts()\n",
    "keepOrder = count_DF.index\n",
    "ax[0].pie(count_DF,explode=[0.05]*len(adataScaled2.obs.Annotations.unique()),pctdistance=-0.85,startangle=0,\n",
    "        labels=[\"{:.1f}%\".format(100.*x/count_DF.sum()) for ix, x in count_DF.items()], colors=[cMapDict[c] for c in keepOrder],\n",
    "      textprops = {\"fontsize\":24})\n",
    "#plt.set_cmap('Set2')\n",
    "ax[0].set_title('AD - Grey Matter')\n",
    "#draw circle\n",
    "centre_circle = plt.Circle((0,0),0.50,fc='white')\n",
    "#fig = plt.gcf()\n",
    "ax[0].add_artist(centre_circle)\n",
    "plt.tight_layout()\n",
    "count_DF  = adataScaled2.obs[adataScaled2.obs.Parent=='White Matter'].sample(frac=1).Annotations.value_counts()\n",
    "keepOrder = count_DF.index\n",
    "\n",
    "ax[1].pie(count_DF.loc[keepOrder],explode=[0.05]*len(adataScaled2.obs.Annotations.unique()),pctdistance=-0.85,startangle=0,\n",
    "        labels=[\"{:.1f}%\".format(100.*x/count_DF.sum()) for ix, x in count_DF.items()], colors=[cMapDict[c] for c in keepOrder],\n",
    "      textprops = {\"fontsize\":24})\n",
    "#plt.set_cmap('Set2')\n",
    "ax[1].set_title('AD - White Matter')\n",
    "#draw circle\n",
    "centre_circle = plt.Circle((0,0),0.50,fc='white')\n",
    "#fig = plt.gcf()\n",
    "ax[1].add_artist(centre_circle)\n",
    "plt.tight_layout()\n",
    "plt.savefig('finalFiguresv4/Cells_AD_GMWM_Percent_Class.pdf',dpi=600)"
   ]
  },
  {
   "cell_type": "code",
   "execution_count": null,
   "id": "7e2f34f9-a0a5-4058-894d-dd2b94f5133f",
   "metadata": {},
   "outputs": [],
   "source": [
    "import matplotlib.pyplot as plt\n",
    "fig,ax=plt.subplots(1,2,figsize=(12,6))\n",
    "adataScaled2 = adataScaled[adataScaled.obs.ImageType=='Ctl'].copy()\n",
    "\n",
    "#cMapDict = {sorted(adataScaled2.obs.Annotations.unique())[i]: adataScaled.uns['Annotations_colors'][i] for i in range(len(adataScaled2.obs.Annotations.unique()))}\n",
    "count_DF  = adataScaled2.obs[adataScaled2.obs.Parent=='Grey Matter'].sample(frac=1).Annotations.value_counts()\n",
    "keepOrder = count_DF.index\n",
    "ax[0].pie(count_DF,explode=[0.05]*len(adataScaled2.obs.Annotations.unique()),pctdistance=-0.85,startangle=0,\n",
    "        labels=[\"{:.1f}%\".format(100.*x/count_DF.sum()) for ix, x in count_DF.items()], colors=[cMapDict[c] for c in keepOrder],\n",
    "      textprops = {\"fontsize\":24})\n",
    "#plt.set_cmap('Set2')\n",
    "ax[0].set_title('Ctl - Grey Matter')\n",
    "#draw circle\n",
    "centre_circle = plt.Circle((0,0),0.50,fc='white')\n",
    "#fig = plt.gcf()\n",
    "ax[0].add_artist(centre_circle)\n",
    "plt.tight_layout()\n",
    "count_DF  = adataScaled2.obs[adataScaled2.obs.Parent=='White Matter'].sample(frac=1).Annotations.value_counts()\n",
    "keepOrder = count_DF.index\n",
    "\n",
    "ax[1].pie(count_DF.loc[keepOrder],explode=[0.05]*len(adataScaled2.obs.Annotations.unique()),pctdistance=-0.85,startangle=0,\n",
    "        labels=[\"{:.1f}%\".format(100.*x/count_DF.sum()) for ix, x in count_DF.items()], colors=[cMapDict[c] for c in keepOrder],\n",
    "      textprops = {\"fontsize\":24})\n",
    "#plt.set_cmap('Set2')\n",
    "ax[1].set_title('Ctl - White Matter')\n",
    "#draw circle\n",
    "centre_circle = plt.Circle((0,0),0.50,fc='white')\n",
    "#fig = plt.gcf()\n",
    "ax[1].add_artist(centre_circle)\n",
    "plt.tight_layout()\n",
    "plt.savefig('finalFiguresv4/Cells_Ctl_GMWM_Percent_Class.png',dpi=600)"
   ]
  },
  {
   "cell_type": "code",
   "execution_count": null,
   "id": "a9a87cb5-12ce-4c95-aab4-f3a0daa030a1",
   "metadata": {},
   "outputs": [],
   "source": [
    "\n",
    "fig,ax=plt.subplots(1,2,figsize=(16,8))\n",
    "ss = adataScaled[(adataScaled.obs.ImageID.isin(['3155']))]\n",
    "sc.pl.scatter(ss, basis='spatial',color=['Annotations'],ax=ax[0],size=10.0,title=im+ss.obs.ImageType.values[0],alpha=0.9, \n",
    "                  show=False)\n",
    "sc.pl.scatter(ss, basis='spatial',color=['Parent'],ax=ax[1],size=10.0,title=im+ss.obs.ImageType.values[0],alpha=0.9, \n",
    "                  show=False, legend_loc='right margin')\n",
    "plt.tight_layout()\n",
    "plt.savefig('finalFigures/3155AD_Spatial_Cells_class.png', dpi=300)"
   ]
  },
  {
   "cell_type": "code",
   "execution_count": null,
   "id": "5f8117b8-3b71-4752-b5eb-ba04b19e1796",
   "metadata": {},
   "outputs": [],
   "source": [
    "\n",
    "fig,ax=plt.subplots(1,2,figsize=(16,8))\n",
    "ss = adataScaled[(adataScaled.obs.ImageID.isin(['3026']))]\n",
    "sc.pl.scatter(ss, basis='spatial',color=['Annotations'],ax=ax[0],size=12.0,title=im+ss.obs.ImageType.values[0],alpha=0.9, \n",
    "                  show=False)\n",
    "sc.pl.scatter(ss, basis='spatial',color=['Parent'],ax=ax[1],size=12.0,title=im+ss.obs.ImageType.values[0],alpha=0.9, \n",
    "                  show=False, legend_loc='right margin')\n",
    "plt.tight_layout()\n",
    "plt.savefig('finalFigures/3026Cells_Spatial_Cells_class.png', dpi=300)"
   ]
  },
  {
   "cell_type": "code",
   "execution_count": null,
   "id": "dbedabee-c096-4ba4-8f45-52f254e854ec",
   "metadata": {},
   "outputs": [],
   "source": [
    "adataScaled.obs.ImageID.value_counts()"
   ]
  },
  {
   "cell_type": "code",
   "execution_count": null,
   "id": "013acd36-7c00-4aa5-ad40-a50957f45d13",
   "metadata": {},
   "outputs": [],
   "source": [
    "adataScaled.obs.groupby(['ImageID','Parent','Annotations']).size().to_csv('McmCells/ClassCellStatistics.tsv')"
   ]
  },
  {
   "cell_type": "code",
   "execution_count": null,
   "id": "fc6bace1-0e1c-4f70-93d4-a6d926034168",
   "metadata": {},
   "outputs": [],
   "source": [
    "adataScaled.obs.spatial_X.max()"
   ]
  },
  {
   "cell_type": "markdown",
   "id": "4cc2fd06-30d5-4001-8aa4-f0b7f2f2d852",
   "metadata": {},
   "source": [
    "## Staticstics"
   ]
  },
  {
   "cell_type": "code",
   "execution_count": null,
   "id": "add5b0ee-d0bf-4f1c-ad97-6cff4359271c",
   "metadata": {},
   "outputs": [],
   "source": [
    "Annot3026 = adataScaled[adataScaled.obs.ImageID.isin(['3026'])]\n",
    "Annot3026.obs.reset_index(inplace=True, drop=True)\n",
    "Annot3026 = Annot3026[(16604 < Annot3026.obs.spatial_X) &( Annot3026.obs.spatial_X < 21913) & (8611 < Annot3026.obs.spatial_Y) &( Annot3026.obs.spatial_Y < 10618)]\n",
    "Annot3026.obs.reset_index(inplace=True, drop=True)\n",
    "Annot3026.obs.phenotype.value_counts()"
   ]
  },
  {
   "cell_type": "code",
   "execution_count": null,
   "id": "5baeccd3",
   "metadata": {},
   "outputs": [],
   "source": [
    "Annot3026.obs"
   ]
  },
  {
   "cell_type": "code",
   "execution_count": null,
   "id": "88425bfe-4e4b-474d-9d61-909478bbd745",
   "metadata": {},
   "outputs": [],
   "source": [
    "fig,ax=plt.subplots(1,2,figsize=(10,4))\n",
    "sc.pl.scatter(Annot3026, basis='spatial',color=['phenotype'],ax=ax[0],size=14.0,alpha=0.9,\n",
    "                  show=False, title=Annot3026.obs.ImageID[0]+' '+Annot3026.obs.ImageType[0])\n",
    "sc.pl.scatter(Annot3026, basis='spatial',color=['Parent'],ax=ax[1],size=14.0,alpha=0.9, \n",
    "                  show=False, legend_loc='right margin', title=Annot3026.obs.ImageID[0]+' '+Annot3026.obs.ImageType[0])"
   ]
  },
  {
   "cell_type": "code",
   "execution_count": null,
   "id": "51efa15b-3058-4b0e-b2ca-eb7cdeee53be",
   "metadata": {},
   "outputs": [],
   "source": [
    "Annot3155 = adataScaled[adataScaled.obs.ImageID.isin(['3155'])]\n",
    "Annot3155.obs.reset_index(inplace=True, drop=True)\n",
    "Annot3155 = Annot3155[(5 < Annot3155.obs.spatial_X) &( Annot3155.obs.spatial_X < 5297) & (0 < Annot3155.obs.spatial_Y) &( Annot3155.obs.spatial_Y < 1991)]\n",
    "Annot3155.obs.reset_index(inplace=True, drop=True)\n",
    "\n",
    "Annot3155.obs.phenotype.value_counts()"
   ]
  },
  {
   "cell_type": "code",
   "execution_count": null,
   "id": "ca5c26cb-08ef-48fc-97f1-dbef72c7807f",
   "metadata": {},
   "outputs": [],
   "source": [
    "fig,ax=plt.subplots(1,2,figsize=(10,4))\n",
    "sc.pl.scatter(Annot3155, basis='spatial',color=['phenotype'],ax=ax[0],size=14.0,alpha=0.9,\n",
    "                  show=False, title=Annot3026.obs.ImageID[0]+' '+Annot3026.obs.ImageType[0])\n",
    "sc.pl.scatter(Annot3155, basis='spatial',color=['Parent'],ax=ax[1],size=14.0,alpha=0.9, \n",
    "                  show=False, legend_loc='right margin', title=Annot3155.obs.ImageID[0]+' '+Annot3155.obs.ImageType[0])"
   ]
  },
  {
   "cell_type": "code",
   "execution_count": null,
   "id": "d52fe498-6c64-4f70-a6a6-5e7ca3b5ba69",
   "metadata": {
    "tags": []
   },
   "outputs": [],
   "source": [
    "#first is  3028, second is 3155\n",
    "#countsDF = pd.DataFrame.from_dict({'Manual':[177,182],'Stardist':[469,257],'Ours':[343 ,221]})\n",
    "import pandas as pd\n",
    "import seaborn as sns\n",
    "import matplotlib.pyplot as plt\n",
    "countsDF = pd.DataFrame.from_dict({'OTSM':[216 ,124],'Manual':[177,182],'Stardist':[244,165]})\n",
    "countsDF['cellID']=['Ctl-1','AD-1']\n",
    "countsDF=countsDF.melt(id_vars=['cellID'])\n",
    "countsDF.columns = ['CellID','Method','Count']\n",
    "#sns.catplot(countsDF,x='cellID',hue='variable')\n",
    "sns.__version__"
   ]
  },
  {
   "cell_type": "code",
   "execution_count": null,
   "id": "3d5d9e24-f67f-4e1c-8890-42f6e751faa6",
   "metadata": {
    "tags": []
   },
   "outputs": [],
   "source": [
    "countsDF.groupby('Method').mean()"
   ]
  },
  {
   "cell_type": "code",
   "execution_count": null,
   "id": "08921d50-82e2-49dd-ae23-2ce2ff4afb52",
   "metadata": {
    "tags": []
   },
   "outputs": [],
   "source": [
    "sns.set(font_scale=1.2)\n",
    "sns.set_style('white')\n",
    "\n",
    "g = sns.catplot(data=countsDF,x='CellID',y='Count',hue='Method', kind='bar', palette='Set1',aspect=4/5)\n",
    "g.despine(bottom = False, left = False, right=False, top=False)\n",
    "g.set_xlabels('')\n",
    "#plt.tight_layout()\n",
    "plt.savefig('finalFigures/Classification_Segmentation_Comparison_50um.png',dpi=300)"
   ]
  },
  {
   "cell_type": "code",
   "execution_count": null,
   "id": "8d818d29",
   "metadata": {
    "tags": []
   },
   "outputs": [],
   "source": [
    "sns.set(font_scale=1.2)\n",
    "sns.set_style('white')\n",
    "fig,ax=plt.subplots(1,1,figsize=(4,5))\n",
    "g = sns.catplot(data=countsDF,x='CellID',y='Count',hue='Method', kind='bar',\n",
    "                palette='Set1',ax=ax, figsize=(4,5))\n",
    "g.despine(bottom = False, left = False, right=False, top=False)\n",
    "#plt.tight_layout()\n",
    "g.set_xlabels('')\n",
    "plt.savefig('finalFigures/Classification_Segmentation_Comparison_50um.png',dpi=300)"
   ]
  },
  {
   "cell_type": "code",
   "execution_count": null,
   "id": "c67c2e8e-0537-4a11-bff8-5c53c1c256ee",
   "metadata": {
    "tags": []
   },
   "outputs": [],
   "source": [
    "sns.set(font_scale=1.2)\n",
    "sns.set_style('white')\n",
    "fig,ax=plt.subplots(1,1,figsize=(5,6))\n",
    "#g= sns.catplot(data=countsDF.groupby('Method').mean().sort_values(by='Count').reset_index(),x='Method',\n",
    "#                y='Count',hue='Method', kind='bar', palette='Set1',)\n",
    "g = sns.barplot(data=countsDF.groupby('Method').mean().sort_values(by='Count').reset_index(),x='Method',\n",
    "                y='Count',hue='Method',palette='Set1',dodge=False,)\n",
    "g.set_ylabel('Avg. number of cells detected')\n",
    "g.get_legend().remove()\n",
    "#g.despine(bottom = False, left = False, right=False, top=False)\n",
    "plt.tight_layout()\n",
    "plt.savefig('finalFigures/Classification_Segmentation_Comparison_50um_Merged.png',dpi=300)"
   ]
  },
  {
   "cell_type": "code",
   "execution_count": null,
   "id": "d1eaa517-3a2d-4465-b10d-a9ca86dd63cd",
   "metadata": {
    "tags": []
   },
   "outputs": [],
   "source": [
    "sns.set(font_scale=1.2)\n",
    "sns.set_style('white')\n",
    "fig,ax=plt.subplots(1,1,figsize=(5,6))\n",
    "#g= sns.catplot(data=countsDF.groupby('Method').mean().sort_values(by='Count').reset_index(),x='Method',\n",
    "#                y='Count',hue='Method', kind='bar', palette='Set1',)\n",
    "g = sns.barplot(data=countsDF.groupby('Method').sum().sort_values(by='Count').reset_index(),x='Method',\n",
    "                y='Count',hue='Method',palette='Set1',dodge=False,)\n",
    "g.set_ylabel('Total number of cells detected')\n",
    "g.get_legend().remove()\n",
    "#g.despine(bottom = False, left = False, right=False, top=False)\n",
    "plt.tight_layout()\n",
    "plt.savefig('figuresSVG/Fig6i_total.svg')\n"
   ]
  },
  {
   "cell_type": "code",
   "execution_count": null,
   "id": "a8bcdfa0-6879-4db0-88b3-09cbb17e2e0d",
   "metadata": {
    "tags": []
   },
   "outputs": [],
   "source": [
    "#!pip install seaborn==0.12.0\n",
    "sns.__version__"
   ]
  },
  {
   "cell_type": "code",
   "execution_count": null,
   "id": "00352f2f-6076-4143-be20-c39f488a453a",
   "metadata": {
    "tags": []
   },
   "outputs": [],
   "source": [
    "sns.set(font_scale=1.2)\n",
    "sns.set_style('white')\n",
    "fig,ax=plt.subplots(1,1,figsize=(5,6))\n",
    "#g= sns.catplot(data=countsDF.groupby('Method').mean().sort_values(by='Count').reset_index(),x='Method',\n",
    "#                y='Count',hue='Method', kind='bar', palette='Set1',)\n",
    "g = sns.barplot(data=countsDF,#.groupby('Method').mean().sort_values(by='Count').reset_index(),\n",
    "                x='Method',capsize=0.2,errorbar='sd',\n",
    "                y='Count',hue='Method',palette='Set1',dodge=False,)\n",
    "g.set_ylabel('Avg. number of cells detected')\n",
    "g.get_legend().remove()\n",
    "#g.despine(bottom = False, left = False, right=False, top=False)\n",
    "plt.tight_layout()\n",
    "plt.savefig('figuresSVG/Fig6i_avg_errorbar.svg')\n",
    "plt.show()"
   ]
  },
  {
   "cell_type": "code",
   "execution_count": null,
   "id": "80fe0e91-68f9-4b7c-8f41-611082a51702",
   "metadata": {
    "tags": []
   },
   "outputs": [],
   "source": [
    "g"
   ]
  },
  {
   "cell_type": "code",
   "execution_count": null,
   "id": "10dc4d99-a200-4c0c-a3b0-e77b6c9170e3",
   "metadata": {},
   "outputs": [],
   "source": [
    "countsDF"
   ]
  },
  {
   "cell_type": "code",
   "execution_count": null,
   "id": "a00bc84e",
   "metadata": {},
   "outputs": [],
   "source": [
    "nMap = {'Microglia': 'Microglia',\n",
    " 'Neurons': 'Neurons',\n",
    " 'Oligodendrocytes': 'Oligodendrocytes',\n",
    " 'Astrocytes': 'Astrocytes',\n",
    "'Unknown':'Other'}"
   ]
  },
  {
   "cell_type": "code",
   "execution_count": null,
   "id": "04adf36a-095c-4ec4-bb9d-95ba3ae7455b",
   "metadata": {},
   "outputs": [],
   "source": [
    "sns.set_style(\"whitegrid\", {'axes.grid' : False})\n",
    "adataScaled.obs['Annotations']=adataScaled.obs.phenotype.map(nMap)\n",
    "cL = ['#FDD835', '#00DBF2', '#4CAF50', '#FF0055', '#3366FF']\n",
    "#cL = ['#FFFF00', '#00DBF2', '#33FF33', '#FF0055', '#ff00ff','#EB984E','#3366FF']\n",
    "cMapDict = {sorted(adataScaled.obs.Annotations.unique())[i]: cL[i] for i in range(len(adataScaled.obs.Annotations.unique()))}"
   ]
  },
  {
   "cell_type": "code",
   "execution_count": null,
   "id": "83649d10",
   "metadata": {},
   "outputs": [],
   "source": [
    "cMapDict={'Astrocytes': '#FDD835',\n",
    " 'Microglia': '#00DBF2',\n",
    " 'Neurons': '#4CAF50',\n",
    " 'Oligodendrocytes': '#FF0055',\n",
    " 'Other': '#3366FF'}"
   ]
  },
  {
   "cell_type": "code",
   "execution_count": null,
   "id": "a9582d6f",
   "metadata": {},
   "outputs": [],
   "source": [
    "import matplotlib.pyplot as plt\n",
    "fig,ax=plt.subplots(1,2,figsize=(12,6))\n",
    "adataScaled2 = adataScaled[adataScaled.obs.ImageType=='AD'].copy()\n",
    "\n",
    "#cMapDict = {sorted(adataScaled2.obs.Annotations.unique())[i]: adataScaled.uns['Annotations_colors'][i] for i in range(len(adataScaled2.obs.Annotations.unique()))}\n",
    "count_DF  = adataScaled2.obs[adataScaled2.obs.Parent=='Grey Matter'].sample(frac=1).Annotations.value_counts()\n",
    "keepOrder = count_DF.index\n",
    "ax[0].pie(count_DF,explode=[0.05]*len(adataScaled2.obs.Annotations.unique()),pctdistance=-0.85,startangle=0,\n",
    "        labels=[\"{:.1f}%\".format(100.*x/count_DF.sum()) for ix, x in count_DF.items()], colors=[cMapDict[c] for c in keepOrder],\n",
    "      textprops = {\"fontsize\":24})\n",
    "#plt.set_cmap('Set2')\n",
    "ax[0].set_title('AD - Grey Matter')\n",
    "#draw circle\n",
    "centre_circle = plt.Circle((0,0),0.50,fc='white')\n",
    "#fig = plt.gcf()\n",
    "ax[0].add_artist(centre_circle)\n",
    "plt.tight_layout()\n",
    "count_DF  = adataScaled2.obs[adataScaled2.obs.Parent=='White Matter'].sample(frac=1).Annotations.value_counts()\n",
    "keepOrder = count_DF.index\n",
    "\n",
    "ax[1].pie(count_DF.loc[keepOrder],explode=[0.05]*len(adataScaled2.obs.Annotations.unique()),pctdistance=-0.85,startangle=0,\n",
    "        labels=[\"{:.1f}%\".format(100.*x/count_DF.sum()) for ix, x in count_DF.items()], colors=[cMapDict[c] for c in keepOrder],\n",
    "      textprops = {\"fontsize\":24})\n",
    "#plt.set_cmap('Set2')\n",
    "ax[1].set_title('AD - White Matter')\n",
    "#draw circle\n",
    "centre_circle = plt.Circle((0,0),0.50,fc='white')\n",
    "#fig = plt.gcf()\n",
    "ax[1].add_artist(centre_circle)\n",
    "plt.tight_layout()\n",
    "plt.savefig('finalFiguresv4/Cells_AD_GMWM_Percent_Class.pdf',dpi=600)"
   ]
  },
  {
   "cell_type": "code",
   "execution_count": null,
   "id": "4437778e",
   "metadata": {},
   "outputs": [],
   "source": [
    "adataScaled2 = adataScaled[adataScaled.obs.ImageID=='3026'].copy()\n",
    "\n",
    "df2 = pd.DataFrame(adataScaled2.obs.groupby('Parent').phenotype.value_counts(normalize=True)*100).round(1)\n",
    "df2.columns = ['percentage']\n",
    "\n",
    "df2 = df2.reset_index(0).reset_index()\n",
    "nameMap = {'Grey Matter':'GM','White Matter':'WM'}\n",
    "\n",
    "df2['Region'] = df2.Parent.map(nameMap)\n",
    "\n",
    "#df2['phenotype'] = df2.phenotype.map(nMap)\n",
    "\n",
    "df2"
   ]
  },
  {
   "cell_type": "code",
   "execution_count": null,
   "id": "d44e5ea3",
   "metadata": {},
   "outputs": [],
   "source": [
    "plt.rc('axes',edgecolor='k')\n"
   ]
  },
  {
   "cell_type": "code",
   "execution_count": null,
   "id": "a3e55e40-9231-4e92-951d-d94b4c6bae8c",
   "metadata": {},
   "outputs": [],
   "source": [
    "import matplotlib.pyplot as plt\n",
    "fig,ax=plt.subplots(1,1,figsize=(4,4))\n",
    "sns.barplot(data=df2, x='Region', y ='percentage',hue='phenotype',orient='v',hue_order=['Neurons','Oligodendrocytes',\n",
    "                                                                                        'Astrocytes','Microglia','Other'],\n",
    "              palette=cMapDict)#['tab:blue','tab:pink'])\n",
    "ax.set_ylabel('% of cells')\n",
    "ax.set_xlabel('')\n",
    "ax.set_yticklabels(['0%','10%','20%','30%','40%','50%','60%','70%'])\n",
    "\n",
    "plt.legend().remove()\n",
    "plt.tight_layout()\n",
    "plt.savefig('finalFiguresv4/3026_Percentages.png',dpi=300)\n",
    "#ax.legend_.set_title('')"
   ]
  },
  {
   "cell_type": "code",
   "execution_count": null,
   "id": "2f33dc6d",
   "metadata": {},
   "outputs": [],
   "source": [
    "adataScaled2 = adataScaled[adataScaled.obs.ImageID=='3155'].copy()\n",
    "\n",
    "df2 = pd.DataFrame(adataScaled2.obs.groupby('Parent').phenotype.value_counts(normalize=True)*100).round(1)\n",
    "df2.columns = ['percentage']\n",
    "\n",
    "df2 = df2.reset_index(0).reset_index()\n",
    "nameMap = {'Grey Matter':'GM','White Matter':'WM'}\n",
    "\n",
    "df2['Region'] = df2.Parent.map(nameMap)\n",
    "\n",
    "#df2['phenotype'] = df2.phenotype.map(nMap)\n",
    "\n",
    "df2"
   ]
  },
  {
   "cell_type": "code",
   "execution_count": null,
   "id": "b8e59165",
   "metadata": {},
   "outputs": [],
   "source": [
    "import matplotlib.pyplot as plt\n",
    "fig,ax=plt.subplots(1,1,figsize=(4,4))\n",
    "sns.barplot(data=df2, x='Region', y ='percentage',hue='phenotype',orient='v',hue_order=['Neurons','Oligodendrocytes',\n",
    "                                                                                        'Astrocytes','Microglia','Other'],\n",
    "              palette=cMapDict)#['tab:blue','tab:pink'])\n",
    "ax.set_ylabel('')\n",
    "ax.set_xlabel('')\n",
    "ax.set_yticklabels(['0%','10%','20%','30%','40%','50%','60%','70%'])\n",
    "\n",
    "plt.legend().remove()\n",
    "plt.tight_layout()\n",
    "plt.savefig('finalFiguresv4/3155_Percentages.png',dpi=300)\n",
    "#ax.legend_.set_title('')"
   ]
  },
  {
   "cell_type": "code",
   "execution_count": null,
   "id": "cbc8e89e",
   "metadata": {},
   "outputs": [],
   "source": [
    "adataScaled.obs.ImageType.astype(str)+'-'+ adataScaled.obs.Region.astype(str)"
   ]
  },
  {
   "cell_type": "code",
   "execution_count": null,
   "id": "b20d5d02",
   "metadata": {
    "scrolled": true
   },
   "outputs": [],
   "source": [
    "adataScaled2 = adataScaled.copy()\n",
    "adataScaled2.obs['Region'] = (adataScaled.obs.ImageType.astype(str)+'-'+ adataScaled.obs.Region.astype(str)).values\n"
   ]
  },
  {
   "cell_type": "code",
   "execution_count": null,
   "id": "5c4159c9",
   "metadata": {},
   "outputs": [],
   "source": [
    "df2 = pd.DataFrame(adataScaled2.obs.groupby('Region').phenotype.value_counts(normalize=True)*100).round(1)\n",
    "df2.columns = ['percentage']\n",
    "\n",
    "df2 = df2.reset_index(0).reset_index()\n",
    "nameMap = {'Grey Matter':'GM','White Matter':'WM'}\n",
    "\n",
    "import matplotlib.pyplot as plt\n",
    "fig,ax=plt.subplots(1,1,figsize=(4,4))\n",
    "sns.barplot(data=df2[df2.Region.isin(['AD-GM','Ctl-GM'])], x='Region', y ='percentage',hue='phenotype',orient='v',hue_order=['Neurons','Oligodendrocytes',\n",
    "                                                                                        'Astrocytes','Microglia','Other'],\n",
    "              palette=cMapDict)#['tab:blue','tab:pink'])\n",
    "ax.set_ylabel('% of cells')\n",
    "ax.set_xlabel('')\n",
    "ax.set_yticklabels(['0%','10%','20%','30%','40%','50%','60%','70%'])\n",
    "\n",
    "plt.legend().remove()\n",
    "plt.tight_layout()\n",
    "plt.savefig('finalFiguresv4/AD_Percentages.png',dpi=300)\n",
    "#ax.legend_.set_title('')"
   ]
  },
  {
   "cell_type": "code",
   "execution_count": null,
   "id": "76d59379",
   "metadata": {},
   "outputs": [],
   "source": [
    "df2 = pd.DataFrame(adataScaled2.obs.groupby('Region').phenotype.value_counts(normalize=True)*100).round(1)\n",
    "df2.columns = ['percentage']\n",
    "\n",
    "df2 = df2.reset_index(0).reset_index()\n",
    "nameMap = {'Grey Matter':'GM','White Matter':'WM'}\n",
    "\n",
    "import matplotlib.pyplot as plt\n",
    "fig,ax=plt.subplots(1,1,figsize=(4,4))\n",
    "sns.barplot(data=df2[df2.Region.isin(['AD-WM','Ctl-WM'])], x='Region', y ='percentage',hue='phenotype',orient='v',hue_order=['Neurons','Oligodendrocytes',\n",
    "                                                                                        'Astrocytes','Microglia','Other'],\n",
    "              palette=cMapDict)#['tab:blue','tab:pink'])\n",
    "ax.set_ylabel('')\n",
    "ax.set_xlabel('')\n",
    "ax.set_yticklabels(['0%','10%','20%','30%','40%','50%','60%','70%'])\n",
    "\n",
    "plt.legend().remove()\n",
    "plt.tight_layout()\n",
    "plt.savefig('finalFiguresv4/AD_Percentages.png',dpi=300)\n",
    "#ax.legend_.set_title('')"
   ]
  },
  {
   "cell_type": "code",
   "execution_count": null,
   "id": "877ab171-3ba2-4951-b9c8-913887390813",
   "metadata": {},
   "outputs": [],
   "source": [
    "nameMap = {'Grey Matter':'GM','White Matter':'WM'}\n",
    "\n",
    "adataScaled.obs.loc[:,'Region'] = adataScaled.obs.Parent.map(nameMap)\n",
    "fig,ax=plt.subplots(1,1,figsize=(8,3))\n",
    "sns.countplot(data=adataScaled[(adataScaled.obs.ImageID=='3155') & (adataScaled.obs.Annotations!='Unknown')].obs, \n",
    "              y='Region',hue='Annotations', palette=cMapDict)#['tab:blue','tab:pink'])\n",
    "ax.set_ylabel('')"
   ]
  },
  {
   "cell_type": "code",
   "execution_count": null,
   "id": "8925b833",
   "metadata": {},
   "outputs": [],
   "source": [
    "nameMap = {'Grey Matter':'GM','White Matter':'WM'}\n",
    "\n",
    "adataScaled.obs.loc[:,'Region'] = adataScaled.obs.Parent.map(nameMap)\n",
    "fig,ax=plt.subplots(2,1,figsize=(8,6))\n",
    "sns.countplot(data=adataScaled[(adataScaled.obs.ImageID=='3155') & (adataScaled.obs.Annotations!='Unknown')].obs, \n",
    "              y='Region',hue='Annotations', hue_order=['Neurons','Astrocytes','Oligodendrocytes','Microglia'],palette=cMapDict, ax=ax[0])#['tab:blue','tab:pink'])\n",
    "ax[0].set_ylabel('AD')\n",
    "ax[0].set_xlabel('')\n",
    "\n",
    "ax[0].get_legend().set_title('')\n",
    "sns.countplot(data=adataScaled[(adataScaled.obs.ImageID=='3026') & (adataScaled.obs.Annotations!='Unknown')].obs, hue_order=['Neurons','Astrocytes','Oligodendrocytes','Microglia'],\n",
    "              y='Region',hue='Annotations', palette=cMapDict, ax=ax[1])#['tab:blue','tab:pink'])\n",
    "ax[1].set_ylabel('Ctl')\n",
    "ax[1].get_legend().remove()\n",
    "ax[1].set_xlabel('Cell count')\n",
    "plt.tight_layout()\n",
    "plt.savefig('finalFiguresv3/Classification_CellTypes.png', dpi=300)"
   ]
  },
  {
   "cell_type": "code",
   "execution_count": null,
   "id": "339d72b1",
   "metadata": {},
   "outputs": [],
   "source": [
    "nameMap = {'Grey Matter':'GM','White Matter':'WM'}\n",
    "\n",
    "adataScaled.obs.loc[:,'Region'] = adataScaled.obs.Parent.map(nameMap)\n",
    "fig,ax=plt.subplots(1,1,figsize=(5,4))\n",
    "sns.countplot(data=adataScaled[(adataScaled.obs.ImageID=='3026') & (adataScaled.obs.Annotations!='Unknown')].obs, \n",
    "              y='Region',hue='Annotations', hue_order=['Neurons','Astrocytes','Oligodendrocytes','Microglia'],palette=cMapDict, ax=ax)#['tab:blue','tab:pink'])\n",
    "ax.set_ylabel('')\n",
    "ax.get_legend().remove()\n",
    "ax.set_xlabel('Cell count')\n",
    "for p in ax.patches:\n",
    "    ax.annotate(f'\\n{p.get_width()}', (p.get_y()-0.2, p.get_width()), ha='center', va='top', color='k', size=12)\n",
    "plt.tight_layout()\n",
    "plt.savefig('finalFiguresv3/Ctl_Classification_CellTypes.png', dpi=300)\n"
   ]
  },
  {
   "cell_type": "code",
   "execution_count": null,
   "id": "f1728583",
   "metadata": {},
   "outputs": [],
   "source": []
  }
 ],
 "metadata": {
  "kernelspec": {
   "display_name": "Python 3 (ipykernel)",
   "language": "python",
   "name": "python3"
  },
  "language_info": {
   "codemirror_mode": {
    "name": "ipython",
    "version": 3
   },
   "file_extension": ".py",
   "mimetype": "text/x-python",
   "name": "python",
   "nbconvert_exporter": "python",
   "pygments_lexer": "ipython3",
   "version": "3.8.16"
  }
 },
 "nbformat": 4,
 "nbformat_minor": 5
}
