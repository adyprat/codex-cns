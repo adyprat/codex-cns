{
 "cells": [
  {
   "cell_type": "code",
   "execution_count": 8,
   "id": "a079966c",
   "metadata": {},
   "outputs": [],
   "source": [
    "import numpy as np\n",
    "from tifffile import *\n",
    "import xml.etree.ElementTree as ET\n",
    "# sscore on windows"
   ]
  },
  {
   "cell_type": "code",
   "execution_count": 9,
   "id": "d36efb2c",
   "metadata": {},
   "outputs": [],
   "source": [
    "#Input all data from file\n",
    "def tiff_in(inFile):\n",
    "\twith TiffFile(inFile) as tif:\n",
    "\t\ttif_tags = {}\n",
    "\t\tfor tag in tif.pages[0].tags.values():\n",
    "\t\t\tname, value = tag.name, tag.value\n",
    "\t\t\ttif_tags[name] = value\n",
    "\t\t\t#images = tif.asarray()\n",
    "\t\tpages = [tif.asarray(),tif_tags]\n",
    "\t\tshapes=[]\n",
    "\t\tfor series in tif.series:\n",
    "\t\t\tshapes.append(series.shape)\n",
    "\treturn pages,shapes\n",
    "\n",
    "def channelNames(inFile):\n",
    "    markerDict = {}\n",
    "    iCnt = 0\n",
    "    with TiffFile(inFile) as tif:\n",
    "        for page in tif.series[0].pages:\n",
    "            markerDict[iCnt] = ET.fromstring(page.description).find('Name').text\n",
    "            iCnt += 1\n",
    "    return markerDict"
   ]
  },
  {
   "cell_type": "code",
   "execution_count": 11,
   "id": "46f403d1",
   "metadata": {},
   "outputs": [],
   "source": [
    "# turn off warnings\n",
    "import warnings\n",
    "warnings.filterwarnings(\"ignore\")"
   ]
  },
  {
   "cell_type": "code",
   "execution_count": 12,
   "id": "dcd70a0d",
   "metadata": {},
   "outputs": [],
   "source": [
    "import cupy as cp\n",
    "from scipy.stats import spearmanr\n",
    "from skimage.transform import pyramid_reduce, rescale\n",
    "import cupy as cp\n",
    "import numpy as np\n",
    "\n",
    "def per_pixel_correlation(image, corrDimensions=1000):\n",
    "    cp.get_default_memory_pool().free_all_blocks()\n",
    "    c,n,m  = image.shape\n",
    "    # Resize the image in a more memory efficient manner\n",
    "    image_gpu = cp.asarray(image)\n",
    "    downsampled_image = cp.resize(image_gpu, (c, corrDimensions, corrDimensions))\n",
    "    print(downsampled_image.shape)\n",
    "    # make 2d from 3d\n",
    "    flat_images = cp.reshape(downsampled_image, (c, -1))\n",
    "    #compute zscore\n",
    "    flat_images = (flat_images - flat_images.mean(axis=1, keepdims=True)) / flat_images.std(axis=1, keepdims=True)\n",
    "    # Compute per pixel correlation across all channels\n",
    "    # Initialize an array to store the Spearman correlation for each channel pair\n",
    "    correlations = cp.zeros((c, c), dtype=cp.float32)\n",
    "\n",
    "    for i in range(c):\n",
    "        print(i)\n",
    "        for j in range(i, c):\n",
    "            if i == j:\n",
    "                # Correlation of a channel with itself is 1\n",
    "                correlations[i, j] = 1\n",
    "                continue\n",
    "            # Compute Spearman correlation for each channel pair\n",
    "            # change this to pearsonr for Pearson's correlation\n",
    "            correlation, _ = spearmanr(flat_images[i].get(), flat_images[j].get())\n",
    "            correlations[i, j] = correlation\n",
    "            correlations[j, i] = correlation  # Since the correlation matrix is symmetric\n",
    "            \n",
    "\n",
    "    return correlations    \n"
   ]
  },
  {
   "cell_type": "code",
   "execution_count": 17,
   "id": "47329ca5",
   "metadata": {},
   "outputs": [],
   "source": [
    "sample_files = {\n",
    "    '3026': '11092021_BaharehNP_3026CtlCorte.qptiff',\n",
    "    '3628': '12252021_Bahareh-3628-Cntr.qptiff',\n",
    "    '3280': '12032021-Bahareh_3280_Alz.qptiff',\n",
    "    '3196': '10122021_BaharehNP_ADCortex_EDTA.qptiff',\n",
    "    '2997': '10202021_BaharehNP_2997-ADCortex_EDTA.qptiff',\n",
    "    '3155': '11162021_Bahareh-3155_EDTA.qptiff',\n",
    "    '1796': '10122021_BaharehNP_1-CtlCortex1796_EDTA_MKT6.qptiff',\n",
    "    '1873': '10222021_BaharehNP_1873_CtrlCortex.qptiff'\n",
    "}\n"
   ]
  },
  {
   "cell_type": "code",
   "execution_count": 18,
   "id": "ea4c63d3",
   "metadata": {},
   "outputs": [
    {
     "name": "stdout",
     "output_type": "stream",
     "text": [
      "3026 11092021_BaharehNP_3026CtlCorte.qptiff\n"
     ]
    }
   ],
   "source": [
    "import pandas as pd\n",
    "import os\n",
    "import seaborn as sns\n",
    "import matplotlib.pyplot as plt\n",
    "\n",
    "for key, file_path in sample_files.items():\n",
    "    # if file exists, skip\n",
    "    if os.path.exists(f'corr/{key}_corr.csv'):\n",
    "        print(f'corr/{key}_corr.csv exists')\n",
    "        continue\n",
    "    # read qptiff\n",
    "    print(key, file_path)\n",
    "    #2997: IBA 11 70; tmem:50 130\n",
    "    inFile = file_path\n",
    "    (all_pages,shapes)=tiff_in(file_path)\n",
    "    marker_dict = channelNames(file_path)\n",
    "    outMat = per_pixel_correlation(all_pages[0], 1)\n",
    "    outDF = pd.DataFrame(outMat, index=marker_dict.values(), columns=marker_dict.values(), dtype='float')\n",
    "    outDF.to_csv(f'corr/{key}_corr.csv')\n",
    "\n",
    "import glob\n",
    "for outF in glob.glob('corr/*.csv'):\n",
    "    outDF = pd.read_csv(outF, index_col=0)\n",
    "    key = outF.split('/')[-1].split('_')[0]\n",
    "    sns.clustermap(outDF, cmap='vlag', figsize=(15,15),\n",
    "                dendrogram_ratio=0.05)\n",
    "    plt.savefig(f'corr/{key}_corrPlot.png', dpi=300)\n"
   ]
  }
 ],
 "metadata": {
  "kernelspec": {
   "display_name": "Python 3 (ipykernel)",
   "language": "python",
   "name": "python3"
  },
  "language_info": {
   "codemirror_mode": {
    "name": "ipython",
    "version": 3
   },
   "file_extension": ".py",
   "mimetype": "text/x-python",
   "name": "python",
   "nbconvert_exporter": "python",
   "pygments_lexer": "ipython3",
   "version": "3.8.13"
  }
 },
 "nbformat": 4,
 "nbformat_minor": 5
}
