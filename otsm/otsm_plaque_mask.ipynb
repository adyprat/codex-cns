{
 "cells": [
  {
   "cell_type": "code",
   "execution_count": null,
   "metadata": {},
   "outputs": [],
   "source": [
    "# jupyter-notebook \n",
    "\n",
    "import cv2\n",
    "import numpy as np\n",
    "from matplotlib import pyplot as plt\n",
    "import itertools  \n",
    "import time\n",
    "import numba as nb\n",
    "import copy\n",
    "from components_container import ComponentsContainerWithHistory\n",
    "import logging\n",
    "logging.basicConfig(level=logging.INFO)\n",
    "from skimage import io\n",
    "%matplotlib inline\n",
    "from skimage.morphology import binary_dilation, reconstruction\n",
    "from skimage.measure import label,regionprops_table\n",
    "from scipy import ndimage\n",
    "import pandas as pd"
   ]
  },
  {
   "cell_type": "code",
   "execution_count": null,
   "metadata": {
    "scrolled": true
   },
   "outputs": [],
   "source": [
    "#!pip install opencv-python numba\n"
   ]
  },
  {
   "cell_type": "code",
   "execution_count": null,
   "metadata": {},
   "outputs": [],
   "source": [
    "displayed_sq = 1500\n",
    "width_margin = 0\n",
    "height_margin = 0\n",
    "def show_img(img):\n",
    "    fig = plt.figure(figsize=(13, 13), dpi= 80, facecolor='w', edgecolor='k')\n",
    "    plt.imshow(img[height_margin:height_margin+displayed_sq,width_margin:width_margin+displayed_sq], cmap=\"ocean\")"
   ]
  },
  {
   "cell_type": "code",
   "execution_count": null,
   "metadata": {},
   "outputs": [],
   "source": [
    "INimg = io.imread('../../notebook_plaque/3155_Plaque.tif', plugin='tifffile')\n",
    "\n",
    "INimg = np.moveaxis(INimg,0,1)\n",
    "\n",
    "#img = img[:2500,:2500]"
   ]
  },
  {
   "cell_type": "code",
   "execution_count": null,
   "metadata": {},
   "outputs": [],
   "source": [
    "INimg.shape"
   ]
  },
  {
   "cell_type": "code",
   "execution_count": null,
   "metadata": {},
   "outputs": [],
   "source": [
    "def draw_grayscale(container):\n",
    "    labs = sorted(np.unique(container.markers)[1:], key = lambda x: -container.components_index.get(x).size)\n",
    "    print(container.markers.shape)\n",
    "    print(len(labs))\n",
    "    pic = np.zeros(container.markers.shape)\n",
    "    mask_color = 1\n",
    "    for mask_lab in labs:\n",
    "        pic[container.markers == mask_lab] = mask_color#np.sqrt(container.components_index.get(nucl_lab).size)\n",
    "        mask_color += 1\n",
    "    \n",
    "    fig = plt.figure(figsize=(11, 11), dpi=80, facecolor='w', edgecolor='k')\n",
    "    \n",
    "    plt.imshow(pic[height_margin:height_margin + displayed_sq, width_margin:width_margin + displayed_sq],\n",
    "                   cmap=\"Set1\")\n",
    "    print(mask_color)\n",
    "    return pic, mask_color\n",
    "\n",
    "def computeMask(img, BACKGROUND_INTENSITY_THRESHOLD=10, MIN_SIZE=100,show=False):\n",
    "    #gray = cv2.cvtColor(img, cv2.COLOR_BGR2GRAY)\n",
    "    gray = img.copy()\n",
    "    invert = cv2.bitwise_not(gray)\n",
    "    if show:\n",
    "        show_img(invert)\n",
    "    blur = cv2.GaussianBlur(img,(5,5),0)\n",
    "    ret, binary = cv2.threshold(blur, BACKGROUND_INTENSITY_THRESHOLD, 255, cv2.THRESH_BINARY+cv2.THRESH_OTSU)\n",
    "    kernel = np.ones((1, 1), 'uint8')\n",
    "\n",
    "    binary = cv2.dilate(binary, kernel, iterations=5)\n",
    "    if show:\n",
    "        show_img(binary)\n",
    "    # filter all noise using minimum size threshold\n",
    "    container = ComponentsContainerWithHistory(binary, MIN_SIZE, logging.INFO)\n",
    "    if show:\n",
    "        show_img(container.markers)\n",
    "    return draw_grayscale(container)\n",
    "\n",
    "\n",
    "def enhance_img_with_container(img, container):\n",
    "    edge_color = [80,0,80]\n",
    "    hull_color = [0,0,100]\n",
    "    for nucl_lab in container.nucleus_labs:           \n",
    "        hull = np.array(container.components_index.get(nucl_lab).hull, np.int32)\n",
    "        hull.reshape((-1,1,2))\n",
    "        hull = hull[:,::-1]\n",
    "        cv2.polylines(img, [hull],True, hull_color)\n",
    "\n",
    "        for ed in container.components_index.get(nucl_lab).edge:\n",
    "            img[ed[0], ed[1]] = edge_color\n",
    "    return img\n",
    "\n",
    "\n",
    "\n",
    "def saveMask(outFile,oMask):\n",
    "    #io.imsave(, outMask.astype('uint32'), plugin='tifffile')\n",
    "    #convert to binary\n",
    "    glNew = oMask>0\n",
    "    #fill holes\n",
    "    #dilate it 'dil' times\n",
    "    for i in range(1):\n",
    "        glNew = binary_dilation(glNew)\n",
    "    glNew = ndimage.binary_fill_holes(glNew)\n",
    "\n",
    "    # label image regions\n",
    "    glNew = label(glNew)\n",
    "    #print(glNew.shape)\n",
    "    regionprops_table(glNew,properties=['label','area'])\n",
    "    io.imsave(outFile,  np.moveaxis(glNew,0,1).astype('uint32'), plugin='tifffile')"
   ]
  },
  {
   "cell_type": "code",
   "execution_count": null,
   "metadata": {
    "scrolled": true
   },
   "outputs": [],
   "source": [
    "for fid in ['1796','2997','3155','3196','3280']:\n",
    "    INimg = io.imread(f'../../notebook_plaque/train/{fid}_Plaque.tif', plugin='tifffile')\n",
    "    INimg = np.moveaxis(INimg,0,1)\n",
    "    outFile = f'Plaques/{fid}_Plaque'\n",
    "    outMask  =   np.zeros((INimg.shape[0],INimg.shape[1]))\n",
    "    numCells = 0\n",
    "    #outFile = '2997_Glia6M'\n",
    "    w = INimg.shape[0]\n",
    "    h = INimg.shape[1]\n",
    "    TILE_SIZE = 7500\n",
    "    xNum = INimg.shape[0]//TILE_SIZE \n",
    "    yNum = INimg.shape[1]//TILE_SIZE\n",
    "    print(w,h,TILE_SIZE, xNum, yNum)\n",
    "    for ix in range(xNum+1):\n",
    "        for iy in range(yNum+1):\n",
    "            xLim = (ix*TILE_SIZE,min(w,(ix+1)*TILE_SIZE))\n",
    "            yLim = (iy*TILE_SIZE,min(h,(iy+1)*TILE_SIZE))\n",
    "            print(\"DIMS....\",ix,iy,xLim,yLim)\n",
    "            maskImg, Ncomp = computeMask(INimg[xLim[0]:xLim[1],yLim[0]:yLim[1]], show=False)\n",
    "            print(Ncomp)\n",
    "            outMask[xLim[0]:xLim[1],yLim[0]:yLim[1]] = maskImg\n",
    "            numCells += Ncomp\n",
    "\n",
    "\n",
    "    saveMask('../'+outFile+'.tif', outMask)\n"
   ]
  }
 ],
 "metadata": {
  "kernelspec": {
   "display_name": "Python 3",
   "language": "python",
   "name": "python3"
  },
  "language_info": {
   "codemirror_mode": {
    "name": "ipython",
    "version": 3
   },
   "file_extension": ".py",
   "mimetype": "text/x-python",
   "name": "python",
   "nbconvert_exporter": "python",
   "pygments_lexer": "ipython3",
   "version": "3.6.9"
  }
 },
 "nbformat": 4,
 "nbformat_minor": 1
}
